{
 "cells": [
  {
   "cell_type": "code",
   "execution_count": 21,
   "metadata": {},
   "outputs": [],
   "source": [
    "import pandas as pd\n",
    "import numpy as np\n",
    "\n",
    "from sklearn.model_selection import train_test_split\n",
    "from sklearn.linear_model import LogisticRegression\n",
    "from sklearn.metrics import classification_report\n",
    "from sklearn.utils import resample\n",
    "from sklearn.preprocessing import StandardScaler, MinMaxScaler\n",
    "import matplotlib.pyplot as plt\n",
    "import seaborn as sns"
   ]
  },
  {
   "cell_type": "code",
   "execution_count": 22,
   "metadata": {},
   "outputs": [],
   "source": [
    "df_train = pd.read_csv(\"../data/cleaned_train.csv\")\n",
    "df_test = pd.read_csv(\"../data/cleaned_test.csv\")\n"
   ]
  },
  {
   "cell_type": "code",
   "execution_count": 23,
   "metadata": {},
   "outputs": [
    {
     "name": "stdout",
     "output_type": "stream",
     "text": [
      "(202944, 21)\n"
     ]
    }
   ],
   "source": [
    "print(df_train.shape)"
   ]
  },
  {
   "cell_type": "code",
   "execution_count": 24,
   "metadata": {},
   "outputs": [],
   "source": [
    "df_X = df_train.drop([\"Status\"], axis=1)\n",
    "df_y = df_train[[\"Status\"]]"
   ]
  },
  {
   "cell_type": "code",
   "execution_count": 25,
   "metadata": {},
   "outputs": [],
   "source": [
    "# Specify the same range for ExtraMedTest and ExtraAlcoholTest\n",
    "lower_bound = -100\n",
    "upper_bound = 100\n",
    "\n",
    "# Check for values outside the specified range for both ExtraMedTest and ExtraAlcoholTest in df_train\n",
    "out_of_range_both_train = df_train[(df_train['ExtraMedTest'] < lower_bound) | (df_train['ExtraMedTest'] > upper_bound) | \n",
    "                                   (df_train['ExtraAlcoholTest'] < lower_bound) | (df_train['ExtraAlcoholTest'] > upper_bound)]\n",
    "\n",
    "# Check for values outside the specified range for both ExtraMedTest and ExtraAlcoholTest in df_test\n",
    "out_of_range_both_test = df_test[(df_test['ExtraMedTest'] < lower_bound) | (df_test['ExtraMedTest'] > upper_bound) | \n",
    "                                 (df_test['ExtraAlcoholTest'] < lower_bound) | (df_test['ExtraAlcoholTest'] > upper_bound)]"
   ]
  },
  {
   "cell_type": "code",
   "execution_count": 26,
   "metadata": {},
   "outputs": [
    {
     "name": "stdout",
     "output_type": "stream",
     "text": [
      "Number of rows with at least one feature out of range or both in df_train: 54236\n",
      "Number of rows with at least one feature out of range or both in df_test: 13303\n"
     ]
    }
   ],
   "source": [
    "# Calculate the number of rows with at least one feature out of range or both in df_train\n",
    "num_rows_out_of_range_train = len(out_of_range_both_train)\n",
    "\n",
    "# Calculate the number of rows with at least one feature out of range or both in df_test\n",
    "num_rows_out_of_range_test = len(out_of_range_both_test)\n",
    "\n",
    "# Print the number of rows with at least one feature out of range or both for df_train and df_test\n",
    "print(\"Number of rows with at least one feature out of range or both in df_train:\", num_rows_out_of_range_train)\n",
    "print(\"Number of rows with at least one feature out of range or both in df_test:\", num_rows_out_of_range_test)"
   ]
  },
  {
   "cell_type": "code",
   "execution_count": null,
   "metadata": {},
   "outputs": [],
   "source": []
  },
  {
   "cell_type": "code",
   "execution_count": 27,
   "metadata": {},
   "outputs": [
    {
     "name": "stdout",
     "output_type": "stream",
     "text": [
      "train_X shape: (162355, 20)\n",
      "train_y shape: (162355,)\n",
      "test_X shape: (40589, 20)\n",
      "test_y shape: (40589,)\n"
     ]
    }
   ],
   "source": [
    "train_X, test_X, train_y, test_y = train_test_split(\n",
    "    df_X, df_y,\n",
    "    shuffle=True,\n",
    "    random_state=0,  \n",
    "    test_size=0.2\n",
    ")\n",
    "\n",
    "train_y = train_y[\"Status\"].values\n",
    "test_y = test_y[\"Status\"].values\n",
    "\n",
    "print(f\"train_X shape: {train_X.shape}\")\n",
    "print(f\"train_y shape: {train_y.shape}\")\n",
    "print(f\"test_X shape: {test_X.shape}\")\n",
    "print(f\"test_y shape: {test_y.shape}\")"
   ]
  },
  {
   "cell_type": "code",
   "execution_count": 28,
   "metadata": {},
   "outputs": [],
   "source": [
    "baseline_clf = LogisticRegression(\n",
    "    penalty=None,           \n",
    "    class_weight=\"balanced\",  \n",
    "    max_iter=1_000,\n",
    "    random_state=99          \n",
    ")\n",
    "\n",
    "baseline_clf.fit(train_X, train_y)\n",
    "pred_y = baseline_clf.predict(test_X)"
   ]
  },
  {
   "cell_type": "code",
   "execution_count": 29,
   "metadata": {},
   "outputs": [
    {
     "name": "stdout",
     "output_type": "stream",
     "text": [
      "'BASELINE MODEL PERFORMANCE'\n",
      "              precision    recall  f1-score   support\n",
      "\n",
      "           0       0.97      0.89      0.93     33494\n",
      "           1       0.62      0.88      0.73      7095\n",
      "\n",
      "    accuracy                           0.88     40589\n",
      "   macro avg       0.80      0.88      0.83     40589\n",
      "weighted avg       0.91      0.88      0.89     40589\n",
      "\n"
     ]
    }
   ],
   "source": [
    "baseline_performance_report = classification_report(test_y, pred_y)\n",
    "print(f\"'BASELINE MODEL PERFORMANCE'\\n{baseline_performance_report}\")"
   ]
  },
  {
   "cell_type": "code",
   "execution_count": 30,
   "metadata": {},
   "outputs": [],
   "source": [
    "for col in df_train.columns:\n",
    "    if col == \"Status\":\n",
    "        continue\n",
    "\n",
    "    q1 = df_train[col].quantile(0.25)\n",
    "    q3 = df_train[col].quantile(0.75)\n",
    "    iqr = q3 - q1\n",
    "    lower_bound = q1 - 1.5 * iqr\n",
    "    upper_bound = q3 + 1.5 * iqr\n",
    "\n",
    "    # Cap outliers\n",
    "    df_train[col] = np.where(df_train[col] < lower_bound, lower_bound, df_train[col])\n",
    "    df_train[col] = np.where(df_train[col] > upper_bound, upper_bound, df_train[col])\n",
    "\n",
    "    "
   ]
  },
  {
   "cell_type": "code",
   "execution_count": 31,
   "metadata": {},
   "outputs": [],
   "source": [
    "numerical_features = ['BMI', 'GenHlth', 'MentHlth', 'PhysHlth', 'Age', 'Education', 'Income',\n",
    "                      'ExtraMedTest', 'ExtraAlcoholTest']\n",
    "\n",
    "scaler = MinMaxScaler()\n",
    "df_train[numerical_features] = scaler.fit_transform(df_train[numerical_features])\n",
    "df_test[numerical_features] = scaler.fit_transform(df_test[numerical_features])"
   ]
  },
  {
   "cell_type": "code",
   "execution_count": 34,
   "metadata": {},
   "outputs": [
    {
     "name": "stdout",
     "output_type": "stream",
     "text": [
      "   HighBP  HighChol       BMI  Smoker  Stroke  HeartDiseaseorAttack  \\\n",
      "0     0.0       0.0  0.375000     1.0     0.0                   0.0   \n",
      "1     0.0       0.0  0.517857     0.0     0.0                   0.0   \n",
      "2     0.0       0.0  0.803571     1.0     0.0                   0.0   \n",
      "3     0.0       1.0  0.767857     0.0     0.0                   0.0   \n",
      "4     0.0       1.0  0.482143     0.0     0.0                   0.0   \n",
      "\n",
      "   PhysActivity  Fruits  Veggies  HvyAlcoholConsump  ...  MentHlth  PhysHlth  \\\n",
      "0           1.0     0.0      1.0                0.0  ...       0.0       0.0   \n",
      "1           1.0     1.0      1.0                0.0  ...       0.2       0.0   \n",
      "2           1.0     1.0      1.0                0.0  ...       1.0       1.0   \n",
      "3           1.0     1.0      1.0                0.0  ...       0.0       0.0   \n",
      "4           1.0     0.0      1.0                0.0  ...       0.0       0.0   \n",
      "\n",
      "   DiffWalk  Sex       Age  Education    Income  ExtraMedTest  \\\n",
      "0       0.0  0.0  0.583333        0.6  0.571429      0.677632   \n",
      "1       0.0  0.0  0.083333        1.0  1.000000      0.519737   \n",
      "2       0.0  0.0  0.166667        0.2  0.000000      0.398684   \n",
      "3       0.0  0.0  0.583333        1.0  1.000000      0.301316   \n",
      "4       0.0  0.0  0.666667        0.8  0.428571      0.367105   \n",
      "\n",
      "   ExtraAlcoholTest  Status  \n",
      "0          0.519737       0  \n",
      "1          0.351316       0  \n",
      "2          0.519737       0  \n",
      "3          0.025000       0  \n",
      "4          0.519737       0  \n",
      "\n",
      "[5 rows x 21 columns]\n"
     ]
    }
   ],
   "source": [
    "print(df_train.head())"
   ]
  },
  {
   "cell_type": "code",
   "execution_count": 35,
   "metadata": {},
   "outputs": [
    {
     "name": "stdout",
     "output_type": "stream",
     "text": [
      "HighBP                  0\n",
      "HighChol                0\n",
      "BMI                     0\n",
      "Smoker                  0\n",
      "Stroke                  0\n",
      "HeartDiseaseorAttack    0\n",
      "PhysActivity            0\n",
      "Fruits                  0\n",
      "Veggies                 0\n",
      "HvyAlcoholConsump       0\n",
      "GenHlth                 0\n",
      "MentHlth                0\n",
      "PhysHlth                0\n",
      "DiffWalk                0\n",
      "Sex                     0\n",
      "Age                     0\n",
      "Education               0\n",
      "Income                  0\n",
      "ExtraMedTest            0\n",
      "ExtraAlcoholTest        0\n",
      "Status                  0\n",
      "dtype: int64\n"
     ]
    }
   ],
   "source": [
    "print(df_train.isna().sum())"
   ]
  },
  {
   "cell_type": "code",
   "execution_count": 36,
   "metadata": {},
   "outputs": [],
   "source": [
    "# Separate majority and minority classes\n",
    "no_diabetes = df_train[df_train[\"Status\"] == 0]\n",
    "diabetes = df_train[df_train[\"Status\"] == 1]\n",
    "\n",
    "diabetes_upsampled = resample(\n",
    "    diabetes,\n",
    "    replace=True,\n",
    "    n_samples=len(no_diabetes),\n",
    "    random_state=0\n",
    ")\n",
    "    \n",
    "# Combine majority class with upsampled minority class\n",
    "df_train = pd.concat([no_diabetes, diabetes_upsampled])\n"
   ]
  },
  {
   "cell_type": "code",
   "execution_count": 37,
   "metadata": {},
   "outputs": [
    {
     "name": "stdout",
     "output_type": "stream",
     "text": [
      "Count of 0: 167313\n",
      "Count of 1: 167313\n"
     ]
    }
   ],
   "source": [
    "status_counts = df_train['Status'].value_counts()\n",
    "\n",
    "# Display the counts\n",
    "print(\"Count of 0:\", status_counts[0])\n",
    "print(\"Count of 1:\", status_counts[1])"
   ]
  },
  {
   "cell_type": "code",
   "execution_count": 38,
   "metadata": {},
   "outputs": [
    {
     "name": "stdout",
     "output_type": "stream",
     "text": [
      "(334626, 21)\n"
     ]
    }
   ],
   "source": [
    "print(df_train.shape)"
   ]
  },
  {
   "cell_type": "code",
   "execution_count": 39,
   "metadata": {},
   "outputs": [
    {
     "name": "stdout",
     "output_type": "stream",
     "text": [
      "'BASELINE MODEL PERFORMANCE'\n",
      "              precision    recall  f1-score   support\n",
      "\n",
      "           0       0.97      0.89      0.93     33494\n",
      "           1       0.62      0.88      0.73      7095\n",
      "\n",
      "    accuracy                           0.88     40589\n",
      "   macro avg       0.80      0.88      0.83     40589\n",
      "weighted avg       0.91      0.88      0.89     40589\n",
      "\n",
      "'NEW MODEL PERFORMANCE\n",
      "              precision    recall  f1-score   support\n",
      "\n",
      "           0       0.87      0.88      0.88     33547\n",
      "           1       0.88      0.87      0.88     33379\n",
      "\n",
      "    accuracy                           0.88     66926\n",
      "   macro avg       0.88      0.88      0.88     66926\n",
      "weighted avg       0.88      0.88      0.88     66926\n",
      "\n"
     ]
    }
   ],
   "source": [
    "df_X = df_train.drop([\"Status\"], axis=1)\n",
    "df_y = df_train[[\"Status\"]]\n",
    "\n",
    "train_X, test_X, train_y, test_y = train_test_split(\n",
    "    df_X, df_y,\n",
    "    shuffle=True,\n",
    "    random_state=0,  # Ensure reproducible results\n",
    "    test_size=0.2\n",
    ")\n",
    "\n",
    "train_y = train_y[\"Status\"].values\n",
    "test_y = test_y[\"Status\"].values\n",
    "\n",
    "baseline_clf.fit(train_X, train_y)\n",
    "pred_y = baseline_clf.predict(test_X)\n",
    "\n",
    "print(f\"'BASELINE MODEL PERFORMANCE'\\n{baseline_performance_report}\")\n",
    "print(f\"'NEW MODEL PERFORMANCE\\n{classification_report(test_y, pred_y)}\")"
   ]
  },
  {
   "cell_type": "code",
   "execution_count": 40,
   "metadata": {},
   "outputs": [
    {
     "name": "stdout",
     "output_type": "stream",
     "text": [
      "<class 'pandas.core.frame.DataFrame'>\n",
      "Index: 334626 entries, 0 to 93340\n",
      "Data columns (total 21 columns):\n",
      " #   Column                Non-Null Count   Dtype  \n",
      "---  ------                --------------   -----  \n",
      " 0   HighBP                334626 non-null  float64\n",
      " 1   HighChol              334626 non-null  float64\n",
      " 2   BMI                   334626 non-null  float64\n",
      " 3   Smoker                334626 non-null  float64\n",
      " 4   Stroke                334626 non-null  float64\n",
      " 5   HeartDiseaseorAttack  334626 non-null  float64\n",
      " 6   PhysActivity          334626 non-null  float64\n",
      " 7   Fruits                334626 non-null  float64\n",
      " 8   Veggies               334626 non-null  float64\n",
      " 9   HvyAlcoholConsump     334626 non-null  float64\n",
      " 10  GenHlth               334626 non-null  float64\n",
      " 11  MentHlth              334626 non-null  float64\n",
      " 12  PhysHlth              334626 non-null  float64\n",
      " 13  DiffWalk              334626 non-null  float64\n",
      " 14  Sex                   334626 non-null  float64\n",
      " 15  Age                   334626 non-null  float64\n",
      " 16  Education             334626 non-null  float64\n",
      " 17  Income                334626 non-null  float64\n",
      " 18  ExtraMedTest          334626 non-null  float64\n",
      " 19  ExtraAlcoholTest      334626 non-null  float64\n",
      " 20  Status                334626 non-null  int64  \n",
      "dtypes: float64(20), int64(1)\n",
      "memory usage: 56.2 MB\n",
      "None\n"
     ]
    }
   ],
   "source": [
    "print(df_train.info())"
   ]
  },
  {
   "cell_type": "code",
   "execution_count": 41,
   "metadata": {},
   "outputs": [],
   "source": [
    "df_train.to_csv(\"../data/transformed_train.csv\", index=False)\n",
    "df_test.to_csv(\"../data/transformed_test.csv\", index=False)\n"
   ]
  }
 ],
 "metadata": {
  "kernelspec": {
   "display_name": "myenv",
   "language": "python",
   "name": "myenv"
  },
  "language_info": {
   "codemirror_mode": {
    "name": "ipython",
    "version": 3
   },
   "file_extension": ".py",
   "mimetype": "text/x-python",
   "name": "python",
   "nbconvert_exporter": "python",
   "pygments_lexer": "ipython3",
   "version": "3.12.0"
  }
 },
 "nbformat": 4,
 "nbformat_minor": 2
}
