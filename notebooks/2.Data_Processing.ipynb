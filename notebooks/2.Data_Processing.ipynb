{
 "cells": [
  {
   "cell_type": "code",
   "execution_count": 1,
   "metadata": {},
   "outputs": [],
   "source": [
    "import pandas as pd\n",
    "import numpy as np\n",
    "\n",
    "from sklearn.model_selection import train_test_split\n",
    "from sklearn.linear_model import LogisticRegression\n",
    "from sklearn.metrics import classification_report\n",
    "from sklearn.utils import resample\n",
    "from sklearn.preprocessing import StandardScaler, MinMaxScaler\n",
    "import matplotlib.pyplot as plt\n",
    "import seaborn as sns"
   ]
  },
  {
   "cell_type": "code",
   "execution_count": 2,
   "metadata": {},
   "outputs": [],
   "source": [
    "df_train = pd.read_csv(\"../data/cleaned_train.csv\")\n",
    "df_test = pd.read_csv(\"../data/cleaned_test.csv\")\n"
   ]
  },
  {
   "cell_type": "code",
   "execution_count": 3,
   "metadata": {},
   "outputs": [
    {
     "name": "stdout",
     "output_type": "stream",
     "text": [
      "              HighBP       HighChol      CholCheck            BMI  \\\n",
      "count  202944.000000  202944.000000  202944.000000  202944.000000   \n",
      "mean        0.428700       0.424344       0.962655      28.379824   \n",
      "std         0.494891       0.494244       0.189607       6.612738   \n",
      "min         0.000000       0.000000       0.000000      12.000000   \n",
      "25%         0.000000       0.000000       1.000000      24.000000   \n",
      "50%         0.000000       0.000000       1.000000      27.000000   \n",
      "75%         1.000000       1.000000       1.000000      31.000000   \n",
      "max         1.000000       1.000000       1.000000      98.000000   \n",
      "\n",
      "              Smoker         Stroke  HeartDiseaseorAttack   PhysActivity  \\\n",
      "count  202944.000000  202944.000000         202944.000000  202944.000000   \n",
      "mean        0.442634       0.040844              0.094391       0.756302   \n",
      "std         0.496700       0.197929              0.292372       0.429313   \n",
      "min         0.000000       0.000000              0.000000       0.000000   \n",
      "25%         0.000000       0.000000              0.000000       1.000000   \n",
      "50%         0.000000       0.000000              0.000000       1.000000   \n",
      "75%         1.000000       0.000000              0.000000       1.000000   \n",
      "max         1.000000       1.000000              1.000000       1.000000   \n",
      "\n",
      "              Fruits        Veggies  ...       MentHlth       PhysHlth  \\\n",
      "count  202944.000000  202944.000000  ...  202944.000000  202944.000000   \n",
      "mean        0.635372       0.811519  ...       3.196971       4.256455   \n",
      "std         0.481327       0.391096  ...       7.427247       8.736665   \n",
      "min         0.000000       0.000000  ...       0.000000       0.000000   \n",
      "25%         0.000000       1.000000  ...       0.000000       0.000000   \n",
      "50%         1.000000       1.000000  ...       0.000000       0.000000   \n",
      "75%         1.000000       1.000000  ...       2.000000       3.000000   \n",
      "max         1.000000       1.000000  ...      30.000000      30.000000   \n",
      "\n",
      "            DiffWalk            Sex            Age      Education  \\\n",
      "count  202944.000000  202944.000000  202944.000000  202944.000000   \n",
      "mean        0.168707       0.439545       8.037449       5.050245   \n",
      "std         0.374494       0.496333       3.051568       0.985601   \n",
      "min         0.000000       0.000000       1.000000       1.000000   \n",
      "25%         0.000000       0.000000       6.000000       4.000000   \n",
      "50%         0.000000       0.000000       8.000000       5.000000   \n",
      "75%         0.000000       1.000000      10.000000       6.000000   \n",
      "max         1.000000       1.000000      13.000000       6.000000   \n",
      "\n",
      "              Income   ExtraMedTest  ExtraAlcoholTest         Status  \n",
      "count  202944.000000  202944.000000     202944.000000  202944.000000  \n",
      "mean        6.055641      -7.408660         -7.560041       0.175571  \n",
      "std         2.070140      75.993743         75.927137       0.380455  \n",
      "min         1.000000    -199.000000       -199.000000       0.000000  \n",
      "25%         5.000000     -55.000000        -55.000000       0.000000  \n",
      "50%         7.000000       0.000000          0.000000       0.000000  \n",
      "75%         8.000000      40.000000         40.000000       0.000000  \n",
      "max         8.000000     199.000000        199.000000       1.000000  \n",
      "\n",
      "[8 rows x 24 columns]\n"
     ]
    }
   ],
   "source": [
    "print(df_train.describe())"
   ]
  },
  {
   "cell_type": "code",
   "execution_count": 4,
   "metadata": {},
   "outputs": [
    {
     "name": "stdout",
     "output_type": "stream",
     "text": [
      "             HighBP      HighChol     CholCheck           BMI        Smoker  \\\n",
      "count  50736.000000  50736.000000  50736.000000  50736.000000  50736.000000   \n",
      "mean       0.430207      0.423230      0.962729     28.392522      0.445305   \n",
      "std        0.495110      0.494076      0.189428      6.592550      0.497004   \n",
      "min        0.000000      0.000000      0.000000     12.000000      0.000000   \n",
      "25%        0.000000      0.000000      1.000000     24.000000      0.000000   \n",
      "50%        0.000000      0.000000      1.000000     27.000000      0.000000   \n",
      "75%        1.000000      1.000000      1.000000     31.000000      1.000000   \n",
      "max        1.000000      1.000000      1.000000     95.000000      1.000000   \n",
      "\n",
      "             Stroke  HeartDiseaseorAttack  PhysActivity        Fruits  \\\n",
      "count  50736.000000          50736.000000  50736.000000  50736.000000   \n",
      "mean       0.039479              0.093366      0.757509      0.629789   \n",
      "std        0.194733              0.290947      0.428594      0.482866   \n",
      "min        0.000000              0.000000      0.000000      0.000000   \n",
      "25%        0.000000              0.000000      1.000000      0.000000   \n",
      "50%        0.000000              0.000000      1.000000      1.000000   \n",
      "75%        0.000000              0.000000      1.000000      1.000000   \n",
      "max        1.000000              1.000000      1.000000      1.000000   \n",
      "\n",
      "            Veggies  ...       GenHlth      MentHlth      PhysHlth  \\\n",
      "count  50736.000000  ...  50736.000000  50736.000000  50736.000000   \n",
      "mean       0.811022  ...      2.500867      3.135978      4.184583   \n",
      "std        0.391495  ...      1.060819      7.354835      8.642537   \n",
      "min        0.000000  ...      1.000000      0.000000      0.000000   \n",
      "25%        1.000000  ...      2.000000      0.000000      0.000000   \n",
      "50%        1.000000  ...      2.000000      0.000000      0.000000   \n",
      "75%        1.000000  ...      3.000000      2.000000      3.000000   \n",
      "max        1.000000  ...      5.000000     30.000000     30.000000   \n",
      "\n",
      "           DiffWalk           Sex           Age     Education        Income  \\\n",
      "count  50736.000000  50736.000000  50736.000000  50736.000000  50736.000000   \n",
      "mean       0.166292      0.443531      8.010801      5.051187      6.046811   \n",
      "std        0.372346      0.496806      3.064743      0.986477      2.075180   \n",
      "min        0.000000      0.000000      1.000000      1.000000      1.000000   \n",
      "25%        0.000000      0.000000      6.000000      4.000000      5.000000   \n",
      "50%        0.000000      0.000000      8.000000      5.000000      7.000000   \n",
      "75%        0.000000      1.000000     10.000000      6.000000      8.000000   \n",
      "max        1.000000      1.000000     13.000000      6.000000      8.000000   \n",
      "\n",
      "       ExtraMedTest  ExtraAlcoholTest  \n",
      "count  50736.000000      50736.000000  \n",
      "mean     -10.972189        -11.429202  \n",
      "std       74.323238         74.525657  \n",
      "min     -199.000000       -199.000000  \n",
      "25%      -57.000000        -58.000000  \n",
      "50%        0.000000          0.000000  \n",
      "75%       33.000000         32.000000  \n",
      "max      199.000000        199.000000  \n",
      "\n",
      "[8 rows x 23 columns]\n"
     ]
    }
   ],
   "source": [
    "print(df_test.describe())"
   ]
  },
  {
   "cell_type": "markdown",
   "metadata": {},
   "source": [
    "## Baseline Model\n",
    "\n",
    "We willl use Logistic Regression model with linear features as our baseline model for simplicity when comparing the differences with the model after data preprocessing steps by using metrics from [classification_report](https://scikit-learn.org/stable/modules/generated/sklearn.metrics.classification_report.html) function: precision, recall and f1 score\n",
    "\n",
    "**Note:** random_state will automatically set to 0 to ensure reproducable result"
   ]
  },
  {
   "cell_type": "code",
   "execution_count": 5,
   "metadata": {},
   "outputs": [],
   "source": [
    "df_X = df_train.drop([\"Status\"], axis=1)\n",
    "df_y = df_train[[\"Status\"]]"
   ]
  },
  {
   "cell_type": "code",
   "execution_count": 6,
   "metadata": {},
   "outputs": [],
   "source": [
    "train_X, test_X, train_y, test_y = train_test_split(\n",
    "    df_X, df_y,\n",
    "    shuffle=True, \n",
    "    test_size=0.2,\n",
    "    random_state=0\n",
    ")\n",
    "\n",
    "baseline_clf = LogisticRegression(\n",
    "    penalty=None,           \n",
    "    class_weight=\"balanced\",  \n",
    "    max_iter=1_000,\n",
    "    random_state=0          \n",
    ")\n",
    "\n",
    "baseline_clf.fit(train_X, train_y.to_numpy().ravel())\n",
    "pred_y = baseline_clf.predict(test_X)\n",
    "target_name = ['no diabetes', 'diabetes']"
   ]
  },
  {
   "cell_type": "code",
   "execution_count": 7,
   "metadata": {},
   "outputs": [
    {
     "name": "stdout",
     "output_type": "stream",
     "text": [
      "BASELINE MODEL PERFORMANCE\n",
      "              precision    recall  f1-score   support\n",
      "\n",
      " no diabetes       0.97      0.89      0.93     33494\n",
      "    diabetes       0.62      0.88      0.73      7095\n",
      "\n",
      "    accuracy                           0.88     40589\n",
      "   macro avg       0.80      0.88      0.83     40589\n",
      "weighted avg       0.91      0.88      0.89     40589\n",
      "\n"
     ]
    }
   ],
   "source": [
    "baseline_performance_report = classification_report(test_y, pred_y, target_names=target_name)\n",
    "print(f\"Baseline model performance\\n{baseline_performance_report}\")"
   ]
  },
  {
   "cell_type": "markdown",
   "metadata": {},
   "source": [
    "The model perform better at predicting No diabetes over Has diabetes like stated in [1. EDA](1.EDA.ipynb)"
   ]
  },
  {
   "cell_type": "markdown",
   "metadata": {},
   "source": [
    "## Data Processing"
   ]
  },
  {
   "cell_type": "markdown",
   "metadata": {},
   "source": [
    "Handling outliers: The outliers will be capped using the IQR method"
   ]
  },
  {
   "cell_type": "code",
   "execution_count": 8,
   "metadata": {},
   "outputs": [],
   "source": [
    "for col in df_train.columns:\n",
    "    if col == \"Status\":\n",
    "        continue\n",
    "\n",
    "    q1 = df_train[col].quantile(0.25)\n",
    "    q3 = df_train[col].quantile(0.75)\n",
    "    iqr = q3 - q1\n",
    "    lower_bound = q1 - 1.5 * iqr\n",
    "    upper_bound = q3 + 1.5 * iqr\n",
    "\n",
    "    # Cap outliers\n",
    "    df_train[col] = np.where(df_train[col] < lower_bound, lower_bound, df_train[col])\n",
    "    df_train[col] = np.where(df_train[col] > upper_bound, upper_bound, df_train[col])\n",
    "\n",
    "    "
   ]
  },
  {
   "cell_type": "markdown",
   "metadata": {},
   "source": [
    "We will normalize our dataset using MinMaxScaler on the numerical features to turn them in (0, 1) scale like the rest of the dataset"
   ]
  },
  {
   "cell_type": "code",
   "execution_count": 9,
   "metadata": {},
   "outputs": [],
   "source": [
    "numerical_features = ['BMI', 'GenHlth', 'MentHlth', 'PhysHlth', 'Age', 'Education', 'Income',\n",
    "                      'ExtraMedTest', 'ExtraAlcoholTest']\n",
    "\n",
    "scaler = MinMaxScaler()\n",
    "df_train[numerical_features] = scaler.fit_transform(df_train[numerical_features])\n",
    "df_test[numerical_features] = scaler.fit_transform(df_test[numerical_features])"
   ]
  },
  {
   "cell_type": "markdown",
   "metadata": {},
   "source": [
    "Since our dataset is imbalanced with a ratio of 1:4 between 0 and 1 (No diabetes and Has diabetes), I will use [resample](https://scikit-learn.org/stable/modules/generated/sklearn.utils.resample.html) to perform oversampling on cases with Status of 0"
   ]
  },
  {
   "cell_type": "code",
   "execution_count": 10,
   "metadata": {},
   "outputs": [],
   "source": [
    "# Separate majority and minority classes\n",
    "no_diabetes = df_train[df_train[\"Status\"] == 0]\n",
    "diabetes = df_train[df_train[\"Status\"] == 1]\n",
    "\n",
    "diabetes_upsampled = resample(\n",
    "    diabetes,\n",
    "    replace=True,\n",
    "    n_samples=len(no_diabetes),\n",
    "    random_state=0\n",
    ")\n",
    "    \n",
    "# Combine majority class with upsampled minority class\n",
    "df_train = pd.concat([no_diabetes, diabetes_upsampled])\n"
   ]
  },
  {
   "cell_type": "code",
   "execution_count": 11,
   "metadata": {},
   "outputs": [
    {
     "name": "stdout",
     "output_type": "stream",
     "text": [
      "Count of 0: 167313\n",
      "Count of 1: 167313\n"
     ]
    }
   ],
   "source": [
    "status_counts = df_train['Status'].value_counts()\n",
    "\n",
    "# Display the counts\n",
    "print(\"Count of 0:\", status_counts[0])\n",
    "print(\"Count of 1:\", status_counts[1])"
   ]
  },
  {
   "cell_type": "code",
   "execution_count": 12,
   "metadata": {},
   "outputs": [
    {
     "name": "stdout",
     "output_type": "stream",
     "text": [
      "(334626, 24)\n"
     ]
    }
   ],
   "source": [
    "print(df_train.shape)"
   ]
  },
  {
   "cell_type": "markdown",
   "metadata": {},
   "source": [
    "Our training dataset now contains > 330k rows "
   ]
  },
  {
   "cell_type": "markdown",
   "metadata": {},
   "source": [
    "Since our dataset is already standardized with the categorical features, we dont need to do encoding "
   ]
  },
  {
   "cell_type": "code",
   "execution_count": 13,
   "metadata": {},
   "outputs": [
    {
     "name": "stdout",
     "output_type": "stream",
     "text": [
      "Baseline model performance\n",
      "              precision    recall  f1-score   support\n",
      "\n",
      " no diabetes       0.97      0.89      0.93     33494\n",
      "    diabetes       0.62      0.88      0.73      7095\n",
      "\n",
      "    accuracy                           0.88     40589\n",
      "   macro avg       0.80      0.88      0.83     40589\n",
      "weighted avg       0.91      0.88      0.89     40589\n",
      "\n",
      "Model performance after preprocessing\n",
      "              precision    recall  f1-score   support\n",
      "\n",
      " no diabetes       0.87      0.88      0.88     33547\n",
      "    diabetes       0.88      0.87      0.88     33379\n",
      "\n",
      "    accuracy                           0.88     66926\n",
      "   macro avg       0.88      0.88      0.88     66926\n",
      "weighted avg       0.88      0.88      0.88     66926\n",
      "\n"
     ]
    }
   ],
   "source": [
    "df_X = df_train.drop([\"Status\"], axis=1)\n",
    "df_y = df_train[[\"Status\"]]\n",
    "\n",
    "train_X, test_X, train_y, test_y = train_test_split(\n",
    "    df_X, df_y,\n",
    "    shuffle=True,\n",
    "    random_state=0, \n",
    "    test_size=0.2\n",
    ")\n",
    "\n",
    "baseline_clf.fit(train_X, train_y.to_numpy().ravel())\n",
    "pred_y = baseline_clf.predict(test_X)\n",
    "\n",
    "target_name = ['no diabetes', 'diabetes']\n",
    "\n",
    "print(f\"Baseline model performance\\n{baseline_performance_report}\")\n",
    "print(f\"Model performance after preprocessing\\n{classification_report(test_y, pred_y, target_names=target_name)}\")"
   ]
  },
  {
   "cell_type": "markdown",
   "metadata": {},
   "source": [
    "The model now perform better on average on predicting both No diabetes and Has diabetes"
   ]
  },
  {
   "cell_type": "code",
   "execution_count": 14,
   "metadata": {},
   "outputs": [],
   "source": [
    "df_train.to_csv(\"../data/transformed_train.csv\", index=False)\n",
    "df_test.to_csv(\"../data/transformed_test.csv\", index=False)\n"
   ]
  }
 ],
 "metadata": {
  "kernelspec": {
   "display_name": "myenv",
   "language": "python",
   "name": "myenv"
  },
  "language_info": {
   "codemirror_mode": {
    "name": "ipython",
    "version": 3
   },
   "file_extension": ".py",
   "mimetype": "text/x-python",
   "name": "python",
   "nbconvert_exporter": "python",
   "pygments_lexer": "ipython3",
   "version": "3.12.0"
  }
 },
 "nbformat": 4,
 "nbformat_minor": 2
}
