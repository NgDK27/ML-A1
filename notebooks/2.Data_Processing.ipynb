{
 "cells": [
  {
   "cell_type": "code",
   "execution_count": 15,
   "metadata": {},
   "outputs": [],
   "source": [
    "import pandas as pd\n",
    "import numpy as np\n",
    "\n",
    "from sklearn.model_selection import train_test_split\n",
    "from sklearn.linear_model import LogisticRegression\n",
    "from sklearn.metrics import classification_report\n",
    "from sklearn.utils import resample\n",
    "from sklearn.preprocessing import StandardScaler"
   ]
  },
  {
   "cell_type": "code",
   "execution_count": 16,
   "metadata": {},
   "outputs": [],
   "source": [
    "df_train = pd.read_csv(\"../data/cleaned_train.csv\")\n",
    "df_test = pd.read_csv(\"../data/cleaned_test.csv\")\n"
   ]
  },
  {
   "cell_type": "code",
   "execution_count": 17,
   "metadata": {},
   "outputs": [
    {
     "name": "stdout",
     "output_type": "stream",
     "text": [
      "(202944, 23)\n"
     ]
    }
   ],
   "source": [
    "print(df_train.shape)"
   ]
  },
  {
   "cell_type": "code",
   "execution_count": 18,
   "metadata": {},
   "outputs": [],
   "source": [
    "df_X = df_train.drop([\"Status\"], axis=1)\n",
    "df_y = df_train[[\"Status\"]]"
   ]
  },
  {
   "cell_type": "code",
   "execution_count": 19,
   "metadata": {},
   "outputs": [
    {
     "name": "stdout",
     "output_type": "stream",
     "text": [
      "train_X shape: (162355, 22)\n",
      "train_y shape: (162355,)\n",
      "test_X shape: (40589, 22)\n",
      "test_y shape: (40589,)\n"
     ]
    }
   ],
   "source": [
    "train_X, test_X, train_y, test_y = train_test_split(\n",
    "    df_X, df_y,\n",
    "    shuffle=True,\n",
    "    random_state=0,  \n",
    "    test_size=0.2\n",
    ")\n",
    "\n",
    "train_y = train_y[\"Status\"].values\n",
    "test_y = test_y[\"Status\"].values\n",
    "\n",
    "print(f\"train_X shape: {train_X.shape}\")\n",
    "print(f\"train_y shape: {train_y.shape}\")\n",
    "print(f\"test_X shape: {test_X.shape}\")\n",
    "print(f\"test_y shape: {test_y.shape}\")"
   ]
  },
  {
   "cell_type": "code",
   "execution_count": 20,
   "metadata": {},
   "outputs": [],
   "source": [
    "baseline_clf = LogisticRegression(\n",
    "    penalty=None,             # No regularization\n",
    "    class_weight=\"balanced\",  # Because our training data is imbalanced\n",
    "    max_iter=1_000,\n",
    "    random_state=99           # Reproducible result\n",
    ")\n",
    "\n",
    "baseline_clf.fit(train_X, train_y)\n",
    "pred_y = baseline_clf.predict(test_X)"
   ]
  },
  {
   "cell_type": "code",
   "execution_count": 21,
   "metadata": {},
   "outputs": [
    {
     "name": "stdout",
     "output_type": "stream",
     "text": [
      "'BASELINE MODEL PERFORMANCE'\n",
      "              precision    recall  f1-score   support\n",
      "\n",
      "           0       0.97      0.89      0.93     33494\n",
      "           1       0.62      0.88      0.73      7095\n",
      "\n",
      "    accuracy                           0.88     40589\n",
      "   macro avg       0.80      0.88      0.83     40589\n",
      "weighted avg       0.91      0.88      0.89     40589\n",
      "\n"
     ]
    }
   ],
   "source": [
    "baseline_performance_report = classification_report(test_y, pred_y)\n",
    "print(f\"'BASELINE MODEL PERFORMANCE'\\n{baseline_performance_report}\")"
   ]
  },
  {
   "cell_type": "code",
   "execution_count": 22,
   "metadata": {},
   "outputs": [],
   "source": [
    "for col in df_train.columns:\n",
    "    if col == \"Status\":\n",
    "        continue\n",
    "\n",
    "    q1 = df_train[col].quantile(0.25)\n",
    "    q3 = df_train[col].quantile(0.75)\n",
    "    iqr = q3 - q1\n",
    "    lower_bound = q1 - 1.5 * iqr\n",
    "    upper_bound = q3 + 1.5 * iqr\n",
    "\n",
    "    # Cap outliers\n",
    "    df_train[col] = np.where(df_train[col] < lower_bound, lower_bound, df_train[col])\n",
    "    df_train[col] = np.where(df_train[col] > upper_bound, upper_bound, df_train[col])"
   ]
  },
  {
   "cell_type": "code",
   "execution_count": 23,
   "metadata": {},
   "outputs": [
    {
     "name": "stdout",
     "output_type": "stream",
     "text": [
      "(202944, 23)\n"
     ]
    }
   ],
   "source": [
    "print(df_train.shape)"
   ]
  },
  {
   "cell_type": "code",
   "execution_count": 24,
   "metadata": {},
   "outputs": [],
   "source": [
    "# Define categorical and numerical features\n",
    "categorical_features = ['Sex', 'HighBP', 'HighChol', 'Smoker', 'Stroke', 'HeartDiseaseorAttack',\n",
    "                        'PhysActivity', 'Fruits', 'Veggies', 'HvyAlcoholConsump', 'AnyHealthcare', 'NoDocbcCost',\n",
    "                        'DiffWalk']\n",
    "numerical_features = ['BMI', 'ExtraMedTest', 'ExtraAlcoholTest']\n",
    "\n",
    "# Define the data transformation pipeline\n",
    "# preprocessor = ColumnTransformer(\n",
    "#     transformers=[\n",
    "#         ('num', StandardScaler(), numerical_features),\n",
    "#         ('cat', OneHotEncoder(handle_unknown='ignore'), categorical_features)\n",
    "#     ])\n",
    "\n",
    "# # Fit and transform the training data\n",
    "# transformed_train_data = preprocessor.fit_transform(df_train)\n",
    "\n",
    "# # Transform the test data (without fitting)\n",
    "# transformed_test_data = preprocessor.transform(df_test)\n",
    "\n",
    "# # Get the names of the categorical features after one-hot encoding\n",
    "# cat_feature_names = preprocessor.named_transformers_['cat'].get_feature_names_out()\n",
    "\n",
    "# # Combine numerical and categorical features for both train and test datasets\n",
    "# transformed_train_df = pd.DataFrame(transformed_train_data, columns=numerical_features + list(cat_feature_names))\n",
    "# transformed_train_df['Status'] = df_train['Status']  # Add Status column back\n",
    "\n",
    "# transformed_test_df = pd.DataFrame(transformed_test_data, columns=numerical_features + list(cat_feature_names))\n",
    "\n",
    "# # Check the transformed DataFrames\n",
    "# print(\"Transformed Train DataFrame:\")\n",
    "# print(transformed_train_df.head())\n",
    "\n",
    "# print(\"\\nTransformed Test DataFrame:\")\n",
    "# print(transformed_test_df.head())\n",
    "\n",
    "scaler = StandardScaler()\n",
    "for col in numerical_features:\n",
    "\n",
    "    df_train[[col]] = scaler.fit_transform(df_train[[col]])\n",
    "    df_test[[col]] = scaler.fit_transform(df_test[[col]])\n"
   ]
  },
  {
   "cell_type": "code",
   "execution_count": 25,
   "metadata": {},
   "outputs": [],
   "source": [
    "no_diabetes = df_train[df_train[\"Status\"] == 0]\n",
    "diabetes = df_train[df_train[\"Status\"] == 1]\n",
    "\n",
    "diabetes_up_sampled = resample(\n",
    "    diabetes,\n",
    "    replace=True,              # sample with replacement\n",
    "    n_samples=len(no_diabetes),  # 1:1 balanced\n",
    "    random_state=0             # reproducible results\n",
    ")\n",
    "\n",
    "df_train = pd.concat([no_diabetes, diabetes_up_sampled])"
   ]
  },
  {
   "cell_type": "code",
   "execution_count": 26,
   "metadata": {},
   "outputs": [
    {
     "name": "stdout",
     "output_type": "stream",
     "text": [
      "Count of 0: 167313\n",
      "Count of 1: 167313\n"
     ]
    }
   ],
   "source": [
    "status_counts = df_train['Status'].value_counts()\n",
    "\n",
    "# Display the counts\n",
    "print(\"Count of 0:\", status_counts[0])\n",
    "print(\"Count of 1:\", status_counts[1])"
   ]
  },
  {
   "cell_type": "code",
   "execution_count": 27,
   "metadata": {},
   "outputs": [
    {
     "name": "stdout",
     "output_type": "stream",
     "text": [
      "(334626, 23)\n"
     ]
    }
   ],
   "source": [
    "print(df_train.shape)"
   ]
  },
  {
   "cell_type": "code",
   "execution_count": 28,
   "metadata": {},
   "outputs": [
    {
     "name": "stdout",
     "output_type": "stream",
     "text": [
      "'BASELINE MODEL PERFORMANCE'\n",
      "              precision    recall  f1-score   support\n",
      "\n",
      "           0       0.97      0.89      0.93     33494\n",
      "           1       0.62      0.88      0.73      7095\n",
      "\n",
      "    accuracy                           0.88     40589\n",
      "   macro avg       0.80      0.88      0.83     40589\n",
      "weighted avg       0.91      0.88      0.89     40589\n",
      "\n",
      "'NEW MODEL PERFORMANCE\n",
      "              precision    recall  f1-score   support\n",
      "\n",
      "           0       0.87      0.88      0.88     33547\n",
      "           1       0.88      0.87      0.88     33379\n",
      "\n",
      "    accuracy                           0.88     66926\n",
      "   macro avg       0.88      0.88      0.88     66926\n",
      "weighted avg       0.88      0.88      0.88     66926\n",
      "\n"
     ]
    }
   ],
   "source": [
    "df_X = df_train.drop([\"Status\"], axis=1)\n",
    "df_y = df_train[[\"Status\"]]\n",
    "\n",
    "train_X, test_X, train_y, test_y = train_test_split(\n",
    "    df_X, df_y,\n",
    "    shuffle=True,\n",
    "    random_state=0,  # Ensure reproducible results\n",
    "    test_size=0.2\n",
    ")\n",
    "\n",
    "train_y = train_y[\"Status\"].values\n",
    "test_y = test_y[\"Status\"].values\n",
    "\n",
    "baseline_clf.fit(train_X, train_y)\n",
    "pred_y = baseline_clf.predict(test_X)\n",
    "\n",
    "print(f\"'BASELINE MODEL PERFORMANCE'\\n{baseline_performance_report}\")\n",
    "print(f\"'NEW MODEL PERFORMANCE\\n{classification_report(test_y, pred_y)}\")"
   ]
  },
  {
   "cell_type": "code",
   "execution_count": 29,
   "metadata": {},
   "outputs": [],
   "source": [
    "df_train.to_csv(\"../data/transformed_train.csv\", index=False)\n",
    "df_test.to_csv(\"../data/transformed_test.csv\", index=False)\n"
   ]
  }
 ],
 "metadata": {
  "kernelspec": {
   "display_name": "myenv",
   "language": "python",
   "name": "myenv"
  },
  "language_info": {
   "codemirror_mode": {
    "name": "ipython",
    "version": 3
   },
   "file_extension": ".py",
   "mimetype": "text/x-python",
   "name": "python",
   "nbconvert_exporter": "python",
   "pygments_lexer": "ipython3",
   "version": "3.12.0"
  }
 },
 "nbformat": 4,
 "nbformat_minor": 2
}
