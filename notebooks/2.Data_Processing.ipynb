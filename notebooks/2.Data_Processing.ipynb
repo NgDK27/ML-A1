{
 "cells": [
  {
   "cell_type": "code",
   "execution_count": 1,
   "metadata": {},
   "outputs": [],
   "source": [
    "import pandas as pd\n",
    "import numpy as np\n",
    "\n",
    "from sklearn.model_selection import train_test_split\n",
    "from sklearn.linear_model import LogisticRegression\n",
    "from sklearn.metrics import classification_report\n",
    "from sklearn.utils import resample\n",
    "from sklearn.preprocessing import StandardScaler"
   ]
  },
  {
   "cell_type": "code",
   "execution_count": 2,
   "metadata": {},
   "outputs": [],
   "source": [
    "df_train = pd.read_csv(\"../data/cleaned_train.csv\")\n",
    "df_test = pd.read_csv(\"../data/cleaned_test.csv\")\n"
   ]
  },
  {
   "cell_type": "code",
   "execution_count": 3,
   "metadata": {},
   "outputs": [
    {
     "name": "stdout",
     "output_type": "stream",
     "text": [
      "(202944, 23)\n"
     ]
    }
   ],
   "source": [
    "print(df_train.shape)"
   ]
  },
  {
   "cell_type": "code",
   "execution_count": 4,
   "metadata": {},
   "outputs": [],
   "source": [
    "df_X = df_train.drop([\"Status\"], axis=1)\n",
    "df_y = df_train[[\"Status\"]]"
   ]
  },
  {
   "cell_type": "code",
   "execution_count": 5,
   "metadata": {},
   "outputs": [
    {
     "name": "stdout",
     "output_type": "stream",
     "text": [
      "train_X shape: (162355, 22)\n",
      "train_y shape: (162355,)\n",
      "test_X shape: (40589, 22)\n",
      "test_y shape: (40589,)\n"
     ]
    }
   ],
   "source": [
    "train_X, test_X, train_y, test_y = train_test_split(\n",
    "    df_X, df_y,\n",
    "    shuffle=True,\n",
    "    random_state=0,  \n",
    "    test_size=0.2\n",
    ")\n",
    "\n",
    "train_y = train_y[\"Status\"].values\n",
    "test_y = test_y[\"Status\"].values\n",
    "\n",
    "print(f\"train_X shape: {train_X.shape}\")\n",
    "print(f\"train_y shape: {train_y.shape}\")\n",
    "print(f\"test_X shape: {test_X.shape}\")\n",
    "print(f\"test_y shape: {test_y.shape}\")"
   ]
  },
  {
   "cell_type": "code",
   "execution_count": 6,
   "metadata": {},
   "outputs": [],
   "source": [
    "baseline_clf = LogisticRegression(\n",
    "    penalty=None,             # No regularization\n",
    "    class_weight=\"balanced\",  # Because our training data is imbalanced\n",
    "    max_iter=1_000,\n",
    "    random_state=99           # Reproducible result\n",
    ")\n",
    "\n",
    "baseline_clf.fit(train_X, train_y)\n",
    "pred_y = baseline_clf.predict(test_X)"
   ]
  },
  {
   "cell_type": "code",
   "execution_count": 8,
   "metadata": {},
   "outputs": [
    {
     "name": "stdout",
     "output_type": "stream",
     "text": [
      "'BASELINE MODEL PERFORMANCE'\n",
      "              precision    recall  f1-score   support\n",
      "\n",
      "           0       0.97      0.89      0.93     33494\n",
      "           1       0.62      0.88      0.73      7095\n",
      "\n",
      "    accuracy                           0.88     40589\n",
      "   macro avg       0.80      0.88      0.83     40589\n",
      "weighted avg       0.91      0.88      0.89     40589\n",
      "\n"
     ]
    }
   ],
   "source": [
    "baseline_performance_report = classification_report(test_y, pred_y)\n",
    "print(f\"'BASELINE MODEL PERFORMANCE'\\n{baseline_performance_report}\")"
   ]
  },
  {
   "cell_type": "code",
   "execution_count": 9,
   "metadata": {},
   "outputs": [],
   "source": [
    "for col in df_train.columns:\n",
    "    if col == \"Status\":\n",
    "        continue\n",
    "\n",
    "    q1 = df_train[col].quantile(0.25)\n",
    "    q3 = df_train[col].quantile(0.75)\n",
    "    iqr = q3 - q1\n",
    "    lower_bound = q1 - 1.5 * iqr\n",
    "    upper_bound = q3 + 1.5 * iqr\n",
    "\n",
    "    # Cap outliers\n",
    "    df_train[col] = np.where(df_train[col] < lower_bound, lower_bound, df_train[col])\n",
    "    df_train[col] = np.where(df_train[col] > upper_bound, upper_bound, df_train[col])\n",
    "\n",
    "    "
   ]
  },
  {
   "cell_type": "code",
   "execution_count": 11,
   "metadata": {},
   "outputs": [],
   "source": [
    "\n",
    "scaler = StandardScaler()\n",
    "for col in df_train.columns:\n",
    "    if col == \"Status\":\n",
    "        continue\n",
    "\n",
    "    df_train[[col]] = scaler.fit_transform(df_train[[col]])\n",
    "    df_test[[col]] = scaler.fit_transform(df_test[[col]])\n"
   ]
  },
  {
   "cell_type": "code",
   "execution_count": 12,
   "metadata": {},
   "outputs": [
    {
     "name": "stdout",
     "output_type": "stream",
     "text": [
      "HighBP                  0\n",
      "HighChol                0\n",
      "BMI                     0\n",
      "Smoker                  0\n",
      "Stroke                  0\n",
      "HeartDiseaseorAttack    0\n",
      "PhysActivity            0\n",
      "Fruits                  0\n",
      "Veggies                 0\n",
      "HvyAlcoholConsump       0\n",
      "AnyHealthcare           0\n",
      "NoDocbcCost             0\n",
      "GenHlth                 0\n",
      "MentHlth                0\n",
      "PhysHlth                0\n",
      "DiffWalk                0\n",
      "Sex                     0\n",
      "Age                     0\n",
      "Education               0\n",
      "Income                  0\n",
      "ExtraMedTest            0\n",
      "ExtraAlcoholTest        0\n",
      "Status                  0\n",
      "dtype: int64\n"
     ]
    }
   ],
   "source": [
    "print(df_train.isna().sum())"
   ]
  },
  {
   "cell_type": "code",
   "execution_count": 13,
   "metadata": {},
   "outputs": [],
   "source": [
    "# Separate majority and minority classes\n",
    "no_diabetes = df_train[df_train[\"Status\"] == 0]\n",
    "diabetes = df_train[df_train[\"Status\"] == 1]\n",
    "\n",
    "diabetes_upsampled = resample(\n",
    "    diabetes,\n",
    "    replace=True,\n",
    "    n_samples=len(no_diabetes),\n",
    "    random_state=0\n",
    ")\n",
    "    \n",
    "# Combine majority class with upsampled minority class\n",
    "df_train = pd.concat([no_diabetes, diabetes_upsampled])\n"
   ]
  },
  {
   "cell_type": "code",
   "execution_count": 14,
   "metadata": {},
   "outputs": [
    {
     "name": "stdout",
     "output_type": "stream",
     "text": [
      "Count of 0: 167313\n",
      "Count of 1: 167313\n"
     ]
    }
   ],
   "source": [
    "status_counts = df_train['Status'].value_counts()\n",
    "\n",
    "# Display the counts\n",
    "print(\"Count of 0:\", status_counts[0])\n",
    "print(\"Count of 1:\", status_counts[1])"
   ]
  },
  {
   "cell_type": "code",
   "execution_count": 15,
   "metadata": {},
   "outputs": [
    {
     "name": "stdout",
     "output_type": "stream",
     "text": [
      "(334626, 23)\n"
     ]
    }
   ],
   "source": [
    "print(df_train.shape)"
   ]
  },
  {
   "cell_type": "code",
   "execution_count": 16,
   "metadata": {},
   "outputs": [
    {
     "name": "stdout",
     "output_type": "stream",
     "text": [
      "HighBP                  0\n",
      "HighChol                0\n",
      "BMI                     0\n",
      "Smoker                  0\n",
      "Stroke                  0\n",
      "HeartDiseaseorAttack    0\n",
      "PhysActivity            0\n",
      "Fruits                  0\n",
      "Veggies                 0\n",
      "HvyAlcoholConsump       0\n",
      "AnyHealthcare           0\n",
      "NoDocbcCost             0\n",
      "GenHlth                 0\n",
      "MentHlth                0\n",
      "PhysHlth                0\n",
      "DiffWalk                0\n",
      "Sex                     0\n",
      "Age                     0\n",
      "Education               0\n",
      "Income                  0\n",
      "ExtraMedTest            0\n",
      "ExtraAlcoholTest        0\n",
      "Status                  0\n",
      "dtype: int64\n"
     ]
    }
   ],
   "source": [
    "print(df_train.isna().sum())"
   ]
  },
  {
   "cell_type": "code",
   "execution_count": 17,
   "metadata": {},
   "outputs": [
    {
     "name": "stdout",
     "output_type": "stream",
     "text": [
      "'BASELINE MODEL PERFORMANCE'\n",
      "              precision    recall  f1-score   support\n",
      "\n",
      "           0       0.97      0.89      0.93     33494\n",
      "           1       0.62      0.88      0.73      7095\n",
      "\n",
      "    accuracy                           0.88     40589\n",
      "   macro avg       0.80      0.88      0.83     40589\n",
      "weighted avg       0.91      0.88      0.89     40589\n",
      "\n",
      "'NEW MODEL PERFORMANCE\n",
      "              precision    recall  f1-score   support\n",
      "\n",
      "           0       0.86      0.87      0.86     33547\n",
      "           1       0.86      0.85      0.86     33379\n",
      "\n",
      "    accuracy                           0.86     66926\n",
      "   macro avg       0.86      0.86      0.86     66926\n",
      "weighted avg       0.86      0.86      0.86     66926\n",
      "\n"
     ]
    }
   ],
   "source": [
    "df_X = df_train.drop([\"Status\"], axis=1)\n",
    "df_y = df_train[[\"Status\"]]\n",
    "\n",
    "train_X, test_X, train_y, test_y = train_test_split(\n",
    "    df_X, df_y,\n",
    "    shuffle=True,\n",
    "    random_state=0,  # Ensure reproducible results\n",
    "    test_size=0.2\n",
    ")\n",
    "\n",
    "train_y = train_y[\"Status\"].values\n",
    "test_y = test_y[\"Status\"].values\n",
    "\n",
    "baseline_clf.fit(train_X, train_y)\n",
    "pred_y = baseline_clf.predict(test_X)\n",
    "\n",
    "print(f\"'BASELINE MODEL PERFORMANCE'\\n{baseline_performance_report}\")\n",
    "print(f\"'NEW MODEL PERFORMANCE\\n{classification_report(test_y, pred_y)}\")"
   ]
  },
  {
   "cell_type": "code",
   "execution_count": 18,
   "metadata": {},
   "outputs": [
    {
     "name": "stdout",
     "output_type": "stream",
     "text": [
      "<class 'pandas.core.frame.DataFrame'>\n",
      "Index: 334626 entries, 0 to 93340\n",
      "Data columns (total 23 columns):\n",
      " #   Column                Non-Null Count   Dtype  \n",
      "---  ------                --------------   -----  \n",
      " 0   HighBP                334626 non-null  float64\n",
      " 1   HighChol              334626 non-null  float64\n",
      " 2   BMI                   334626 non-null  float64\n",
      " 3   Smoker                334626 non-null  float64\n",
      " 4   Stroke                334626 non-null  float64\n",
      " 5   HeartDiseaseorAttack  334626 non-null  float64\n",
      " 6   PhysActivity          334626 non-null  float64\n",
      " 7   Fruits                334626 non-null  float64\n",
      " 8   Veggies               334626 non-null  float64\n",
      " 9   HvyAlcoholConsump     334626 non-null  float64\n",
      " 10  AnyHealthcare         334626 non-null  float64\n",
      " 11  NoDocbcCost           334626 non-null  float64\n",
      " 12  GenHlth               334626 non-null  float64\n",
      " 13  MentHlth              334626 non-null  float64\n",
      " 14  PhysHlth              334626 non-null  float64\n",
      " 15  DiffWalk              334626 non-null  float64\n",
      " 16  Sex                   334626 non-null  float64\n",
      " 17  Age                   334626 non-null  float64\n",
      " 18  Education             334626 non-null  float64\n",
      " 19  Income                334626 non-null  float64\n",
      " 20  ExtraMedTest          334626 non-null  float64\n",
      " 21  ExtraAlcoholTest      334626 non-null  float64\n",
      " 22  Status                334626 non-null  int64  \n",
      "dtypes: float64(22), int64(1)\n",
      "memory usage: 61.3 MB\n",
      "None\n"
     ]
    }
   ],
   "source": [
    "print(df_train.info())"
   ]
  },
  {
   "cell_type": "code",
   "execution_count": 19,
   "metadata": {},
   "outputs": [],
   "source": [
    "df_train.to_csv(\"../data/transformed_train.csv\", index=False)\n",
    "df_test.to_csv(\"../data/transformed_test.csv\", index=False)\n"
   ]
  }
 ],
 "metadata": {
  "kernelspec": {
   "display_name": "myenv",
   "language": "python",
   "name": "myenv"
  },
  "language_info": {
   "codemirror_mode": {
    "name": "ipython",
    "version": 3
   },
   "file_extension": ".py",
   "mimetype": "text/x-python",
   "name": "python",
   "nbconvert_exporter": "python",
   "pygments_lexer": "ipython3",
   "version": "3.12.0"
  }
 },
 "nbformat": 4,
 "nbformat_minor": 2
}
