{
 "cells": [
  {
   "cell_type": "markdown",
   "metadata": {},
   "source": [
    "Machine learning algorithms for classification problems we can use:\n",
    "\n",
    "- Logistic Regression\n",
    "- Decision Tree\n",
    "- Random Forest\n",
    "\n",
    "Based on our dataset (over 300k rows in training data and 20+ features):\n",
    "\n",
    "- Use Random Search over Grid Search because it can find good solutions with fewer iterations and effectively handle large search spaces. We might choose Grid Search for our model for a comprehensive search for best hyperparameter but since this is only for benchmarking, I will use Random Search.\n",
    "\n",
    "- Use KFold cross validation instead of a fixed validation set to prevent overfitting.\n",
    "\n",
    "- Use metrics from [classification_report](https://scikit-learn.org/stable/modules/generated/sklearn.metrics.classification_report.html) as well as ROC AUC score to measure the models' performance.\n",
    "\n",
    "- Will only use Logistic Regression with linear features and polynomial degrees of 2 since using exponential of 3 and 4 will be too computing exhausted\n",
    "\n",
    "**Note:** random_state will automatically set to 0 to ensure reproducable result"
   ]
  },
  {
   "cell_type": "code",
   "execution_count": 1,
   "metadata": {},
   "outputs": [],
   "source": [
    "# Imports and environment setup\n",
    "import pandas as pd\n",
    "import numpy as np\n",
    "import seaborn as sns\n",
    "import matplotlib.pyplot as plt\n",
    "\n",
    "from sklearn.model_selection import train_test_split, KFold, RandomizedSearchCV\n",
    "from sklearn.linear_model import LogisticRegression\n",
    "from sklearn.preprocessing import PolynomialFeatures, StandardScaler\n",
    "from sklearn.tree import DecisionTreeClassifier\n",
    "from sklearn.ensemble import BaggingClassifier, RandomForestClassifier\n",
    "from sklearn.metrics import f1_score, roc_curve, auc, classification_report"
   ]
  },
  {
   "cell_type": "code",
   "execution_count": 2,
   "metadata": {},
   "outputs": [],
   "source": [
    "df_train = pd.read_csv(\"../data/transformed_train.csv\")\n",
    "df_test = pd.read_csv(\"../data/transformed_test.csv\")"
   ]
  },
  {
   "cell_type": "code",
   "execution_count": 3,
   "metadata": {},
   "outputs": [],
   "source": [
    "# Status is the target feature\n",
    "df_X = df_train.drop([\"Status\"], axis=1)\n",
    "df_y = df_train[[\"Status\"]]\n",
    "\n",
    "# Splitting our training data into a train set and a validation set\n",
    "train_X, val_X, train_y, val_y = train_test_split(\n",
    "    df_X, df_y,\n",
    "    shuffle=True,\n",
    "    test_size=0.2,    # 80% Train - 20% Validation\n",
    "    random_state=0\n",
    ")\n"
   ]
  },
  {
   "cell_type": "code",
   "execution_count": 16,
   "metadata": {},
   "outputs": [],
   "source": [
    "clfs = dict()  # Save all models in a dictionary for benchmarking purpose"
   ]
  },
  {
   "cell_type": "code",
   "execution_count": 17,
   "metadata": {},
   "outputs": [],
   "source": [
    "cv = KFold(\n",
    "    n_splits=4,     # Each fold is 20% of df_X\n",
    "    shuffle=True,\n",
    "    random_state=0  \n",
    ")"
   ]
  },
  {
   "cell_type": "markdown",
   "metadata": {},
   "source": [
    "## Logistic Regression with linear features"
   ]
  },
  {
   "cell_type": "code",
   "execution_count": 18,
   "metadata": {},
   "outputs": [],
   "source": [
    "clf = LogisticRegression(\n",
    "    solver=\"saga\",            \n",
    "    class_weight=\"balanced\",\n",
    "    max_iter=1000,\n",
    "    random_state=0           \n",
    ")"
   ]
  },
  {
   "cell_type": "code",
   "execution_count": 19,
   "metadata": {},
   "outputs": [],
   "source": [
    "params = {\n",
    "    \"penalty\": [\"l1\", \"l2\"],   # L1 and L2 regularization\n",
    "    \"C\": 1 / np.logspace(-10, 2, num=5)\n",
    "}"
   ]
  },
  {
   "cell_type": "code",
   "execution_count": 20,
   "metadata": {},
   "outputs": [],
   "source": [
    "random_clf = RandomizedSearchCV(clf, params, cv=cv, n_jobs=-2, scoring=[\"f1\", \"roc_auc\"], refit=\"f1\", return_train_score=True)\n",
    "random_clf.fit(train_X, train_y.to_numpy().ravel())\n",
    "\n",
    "clfs[\"logistic_linear\"] = random_clf"
   ]
  },
  {
   "cell_type": "code",
   "execution_count": 21,
   "metadata": {},
   "outputs": [
    {
     "data": {
      "text/plain": [
       "{'penalty': 'l1', 'C': 10000000000.0}"
      ]
     },
     "execution_count": 21,
     "metadata": {},
     "output_type": "execute_result"
    }
   ],
   "source": [
    "random_clf.best_params_"
   ]
  },
  {
   "cell_type": "code",
   "execution_count": 22,
   "metadata": {},
   "outputs": [
    {
     "name": "stdout",
     "output_type": "stream",
     "text": [
      "Training performance\n",
      "              precision    recall  f1-score   support\n",
      "\n",
      "           0       0.87      0.88      0.88    133766\n",
      "           1       0.88      0.87      0.88    133934\n",
      "\n",
      "    accuracy                           0.88    267700\n",
      "   macro avg       0.88      0.88      0.88    267700\n",
      "weighted avg       0.88      0.88      0.88    267700\n",
      "\n",
      "Validation performance\n",
      "              precision    recall  f1-score   support\n",
      "\n",
      "           0       0.87      0.88      0.88     33547\n",
      "           1       0.88      0.87      0.88     33379\n",
      "\n",
      "    accuracy                           0.88     66926\n",
      "   macro avg       0.88      0.88      0.88     66926\n",
      "weighted avg       0.88      0.88      0.88     66926\n",
      "\n"
     ]
    }
   ],
   "source": [
    "train_pred_y = random_clf.predict(train_X)\n",
    "val_pred_y = random_clf.predict(val_X)\n",
    "\n",
    "train_performance_report = classification_report(train_y, train_pred_y)\n",
    "val_performance_report = classification_report(val_y, val_pred_y)\n",
    "\n",
    "print(f\"Training performance\\n{train_performance_report}\")\n",
    "print(f\"Validation performance\\n{val_performance_report}\")"
   ]
  },
  {
   "cell_type": "markdown",
   "metadata": {},
   "source": [
    "## Logistic Regression with polynomial degree of 2"
   ]
  },
  {
   "cell_type": "code",
   "execution_count": 23,
   "metadata": {},
   "outputs": [],
   "source": [
    "# Degree 2 Polynomial Features:\n",
    "poly = PolynomialFeatures(2)\n",
    "train_X_poly2 = poly.fit_transform(train_X)\n",
    "val_X_poly2 = poly.transform(val_X)\n",
    "\n",
    "# We need to scale the data again after transforming it to polynomial features\n",
    "scaler = StandardScaler()\n",
    "train_X_poly2 = scaler.fit_transform(train_X_poly2)\n",
    "val_X_poly2 = scaler.transform(val_X_poly2)\n"
   ]
  },
  {
   "cell_type": "code",
   "execution_count": 24,
   "metadata": {},
   "outputs": [],
   "source": [
    "random_clf = RandomizedSearchCV(clf, params, cv=cv, n_jobs=-2, scoring=[\"f1\", \"roc_auc\"], refit=\"f1\", return_train_score=True)\n",
    "random_clf.fit(train_X_poly2, train_y.to_numpy().ravel())\n",
    "\n",
    "clfs[\"logistic_poly2\"] = random_clf"
   ]
  },
  {
   "cell_type": "code",
   "execution_count": 25,
   "metadata": {},
   "outputs": [
    {
     "data": {
      "text/plain": [
       "{'penalty': 'l1', 'C': 10000000000.0}"
      ]
     },
     "execution_count": 25,
     "metadata": {},
     "output_type": "execute_result"
    }
   ],
   "source": [
    "random_clf.best_params_"
   ]
  },
  {
   "cell_type": "code",
   "execution_count": 26,
   "metadata": {},
   "outputs": [
    {
     "name": "stdout",
     "output_type": "stream",
     "text": [
      "Training performance\n",
      "              precision    recall  f1-score   support\n",
      "\n",
      "           0       0.88      0.90      0.89    133766\n",
      "           1       0.90      0.88      0.89    133934\n",
      "\n",
      "    accuracy                           0.89    267700\n",
      "   macro avg       0.89      0.89      0.89    267700\n",
      "weighted avg       0.89      0.89      0.89    267700\n",
      "\n",
      "Validation performance\n",
      "              precision    recall  f1-score   support\n",
      "\n",
      "           0       0.88      0.90      0.89     33547\n",
      "           1       0.90      0.88      0.89     33379\n",
      "\n",
      "    accuracy                           0.89     66926\n",
      "   macro avg       0.89      0.89      0.89     66926\n",
      "weighted avg       0.89      0.89      0.89     66926\n",
      "\n"
     ]
    }
   ],
   "source": [
    "train_pred_y = random_clf.predict(train_X_poly2)\n",
    "val_pred_y = random_clf.predict(val_X_poly2)\n",
    "\n",
    "train_performance_report = classification_report(train_y, train_pred_y)\n",
    "val_performance_report = classification_report(val_y, val_pred_y)\n",
    "\n",
    "print(f\"Training performance\\n{train_performance_report}\")\n",
    "print(f\"Validation performance\\n{val_performance_report}\")"
   ]
  },
  {
   "cell_type": "markdown",
   "metadata": {},
   "source": [
    "## Decision tree"
   ]
  },
  {
   "cell_type": "code",
   "execution_count": 27,
   "metadata": {},
   "outputs": [],
   "source": [
    "params = {\n",
    "    \"max_depth\": np.arange(2, 24, 2),\n",
    "    \"min_samples_split\": np.arange(2, 10, 2),\n",
    "    \"ccp_alpha\": np.linspace(0, 0.1, 10)       # Cost Complexity Pruning\n",
    "}"
   ]
  },
  {
   "cell_type": "code",
   "execution_count": 28,
   "metadata": {},
   "outputs": [],
   "source": [
    "clf = DecisionTreeClassifier(\n",
    "    criterion=\"gini\",         \n",
    "    class_weight=\"balanced\",\n",
    "    random_state=0,       \n",
    "    ccp_alpha=0.0\n",
    ")\n",
    "\n",
    "random_clf = RandomizedSearchCV(clf, params, cv=cv, n_jobs=-2, scoring=[\"f1\", \"roc_auc\"], refit=\"f1\", return_train_score=True)\n",
    "random_clf.fit(train_X, train_y.to_numpy().ravel())\n",
    "\n",
    "clfs[\"decision_tree\"] = random_clf"
   ]
  },
  {
   "cell_type": "code",
   "execution_count": 29,
   "metadata": {},
   "outputs": [
    {
     "data": {
      "text/plain": [
       "{'min_samples_split': 2, 'max_depth': 14, 'ccp_alpha': 0.03333333333333333}"
      ]
     },
     "execution_count": 29,
     "metadata": {},
     "output_type": "execute_result"
    }
   ],
   "source": [
    "random_clf.best_params_"
   ]
  },
  {
   "cell_type": "code",
   "execution_count": 30,
   "metadata": {},
   "outputs": [
    {
     "name": "stdout",
     "output_type": "stream",
     "text": [
      "Training performance\n",
      "              precision    recall  f1-score   support\n",
      "\n",
      "           0       0.84      0.94      0.89    133766\n",
      "           1       0.93      0.82      0.87    133934\n",
      "\n",
      "    accuracy                           0.88    267700\n",
      "   macro avg       0.89      0.88      0.88    267700\n",
      "weighted avg       0.89      0.88      0.88    267700\n",
      "\n",
      "Validation performance\n",
      "              precision    recall  f1-score   support\n",
      "\n",
      "           0       0.84      0.94      0.89     33547\n",
      "           1       0.93      0.82      0.87     33379\n",
      "\n",
      "    accuracy                           0.88     66926\n",
      "   macro avg       0.89      0.88      0.88     66926\n",
      "weighted avg       0.89      0.88      0.88     66926\n",
      "\n"
     ]
    }
   ],
   "source": [
    "train_pred_y = random_clf.predict(train_X)\n",
    "val_pred_y = random_clf.predict(val_X)\n",
    "\n",
    "train_performance_report = classification_report(train_y, train_pred_y)\n",
    "val_performance_report = classification_report(val_y, val_pred_y)\n",
    "\n",
    "print(f\"Training performance\\n{train_performance_report}\")\n",
    "print(f\"Validation performance\\n{val_performance_report}\")"
   ]
  },
  {
   "cell_type": "markdown",
   "metadata": {},
   "source": [
    "## Bagged decision trees"
   ]
  },
  {
   "cell_type": "code",
   "execution_count": 31,
   "metadata": {},
   "outputs": [],
   "source": [
    "params = {\n",
    "    \"n_estimators\": np.arange(5, 25, 5),\n",
    "    \"max_samples\": np.arange(0.1, 1.0, 0.1),\n",
    "}"
   ]
  },
  {
   "cell_type": "code",
   "execution_count": 32,
   "metadata": {},
   "outputs": [],
   "source": [
    "clf = BaggingClassifier(\n",
    "    estimator=clfs[\"decision_tree\"],\n",
    "    random_state=0  \n",
    ")\n",
    "\n",
    "random_clf = RandomizedSearchCV(clf, params, cv=cv, n_jobs=-2, scoring=[\"f1\", \"roc_auc\"], refit=\"f1\", return_train_score=True)\n",
    "random_clf.fit(train_X, train_y.to_numpy().ravel())\n",
    "\n",
    "clfs[\"bagged_trees\"] = random_clf"
   ]
  },
  {
   "cell_type": "code",
   "execution_count": 33,
   "metadata": {},
   "outputs": [
    {
     "data": {
      "text/plain": [
       "{'n_estimators': 5, 'max_samples': 0.8}"
      ]
     },
     "execution_count": 33,
     "metadata": {},
     "output_type": "execute_result"
    }
   ],
   "source": [
    "random_clf.best_params_"
   ]
  },
  {
   "cell_type": "markdown",
   "metadata": {},
   "source": [
    "## Feature bagged decision trees"
   ]
  },
  {
   "cell_type": "code",
   "execution_count": 34,
   "metadata": {},
   "outputs": [],
   "source": [
    "params = {\n",
    "    \"n_estimators\": np.arange(5, 25, 5),\n",
    "    \"max_samples\": np.arange(0.1, 1.0, 0.1),\n",
    "    \"max_features\": [0.5, 0.7, 0.9],  # Specify different fractions of features to consider for each base estimator\n",
    "}"
   ]
  },
  {
   "cell_type": "code",
   "execution_count": 35,
   "metadata": {},
   "outputs": [],
   "source": [
    "clf = BaggingClassifier(estimator=clfs[\"decision_tree\"], random_state=0, bootstrap_features=True)\n",
    "\n",
    "random_clf = RandomizedSearchCV(clf, params, cv=cv, n_jobs=-2, scoring=[\"f1\", \"roc_auc\"], refit=\"f1\", return_train_score=True)\n",
    "random_clf.fit(train_X, train_y.to_numpy().ravel())\n",
    "\n",
    "clfs[\"feature_bagged_trees\"] = random_clf"
   ]
  },
  {
   "cell_type": "code",
   "execution_count": 36,
   "metadata": {},
   "outputs": [
    {
     "data": {
      "text/plain": [
       "{'n_estimators': 5, 'max_samples': 0.6, 'max_features': 0.9}"
      ]
     },
     "execution_count": 36,
     "metadata": {},
     "output_type": "execute_result"
    }
   ],
   "source": [
    "random_clf.best_params_"
   ]
  },
  {
   "cell_type": "code",
   "execution_count": 37,
   "metadata": {},
   "outputs": [
    {
     "name": "stdout",
     "output_type": "stream",
     "text": [
      "Training performance\n",
      "              precision    recall  f1-score   support\n",
      "\n",
      "           0       0.98      0.97      0.97    133766\n",
      "           1       0.97      0.98      0.97    133934\n",
      "\n",
      "    accuracy                           0.97    267700\n",
      "   macro avg       0.97      0.97      0.97    267700\n",
      "weighted avg       0.97      0.97      0.97    267700\n",
      "\n",
      "Validation performance\n",
      "              precision    recall  f1-score   support\n",
      "\n",
      "           0       0.96      0.94      0.95     33547\n",
      "           1       0.94      0.97      0.95     33379\n",
      "\n",
      "    accuracy                           0.95     66926\n",
      "   macro avg       0.95      0.95      0.95     66926\n",
      "weighted avg       0.95      0.95      0.95     66926\n",
      "\n"
     ]
    }
   ],
   "source": [
    "train_pred_y = random_clf.predict(train_X)\n",
    "val_pred_y = random_clf.predict(val_X)\n",
    "\n",
    "train_performance_report = classification_report(train_y, train_pred_y)\n",
    "val_performance_report = classification_report(val_y, val_pred_y)\n",
    "\n",
    "print(f\"Training performance\\n{train_performance_report}\")\n",
    "print(f\"Validation performance\\n{val_performance_report}\")"
   ]
  },
  {
   "cell_type": "markdown",
   "metadata": {},
   "source": [
    "## Random forest"
   ]
  },
  {
   "cell_type": "code",
   "execution_count": 38,
   "metadata": {},
   "outputs": [],
   "source": [
    "params = {\n",
    "    \"n_estimators\": np.arange(5, 25, 5),\n",
    "    \"max_depth\": np.arange(2, 24, 2),\n",
    "}"
   ]
  },
  {
   "cell_type": "code",
   "execution_count": 39,
   "metadata": {},
   "outputs": [],
   "source": [
    "clf = RandomForestClassifier(\n",
    "    criterion=\"gini\", \n",
    "    class_weight=\"balanced\",\n",
    "    random_state=0     \n",
    ")\n",
    "\n",
    "random_clf = RandomizedSearchCV(clf, params, cv=cv, n_jobs=-2, scoring=[\"f1\", \"roc_auc\"], refit=\"f1\", return_train_score=True)\n",
    "random_clf.fit(train_X, train_y.to_numpy().ravel())\n",
    "\n",
    "clfs[\"random_forest\"] = random_clf"
   ]
  },
  {
   "cell_type": "code",
   "execution_count": 40,
   "metadata": {},
   "outputs": [
    {
     "data": {
      "text/plain": [
       "{'n_estimators': 10, 'max_depth': 20}"
      ]
     },
     "execution_count": 40,
     "metadata": {},
     "output_type": "execute_result"
    }
   ],
   "source": [
    "random_clf.best_params_"
   ]
  },
  {
   "cell_type": "code",
   "execution_count": 41,
   "metadata": {},
   "outputs": [
    {
     "name": "stdout",
     "output_type": "stream",
     "text": [
      "Training performance\n",
      "              precision    recall  f1-score   support\n",
      "\n",
      "           0       1.00      0.99      1.00    133766\n",
      "           1       0.99      1.00      1.00    133934\n",
      "\n",
      "    accuracy                           1.00    267700\n",
      "   macro avg       1.00      1.00      1.00    267700\n",
      "weighted avg       1.00      1.00      1.00    267700\n",
      "\n",
      "Validation performance\n",
      "              precision    recall  f1-score   support\n",
      "\n",
      "           0       0.99      0.97      0.98     33547\n",
      "           1       0.97      0.99      0.98     33379\n",
      "\n",
      "    accuracy                           0.98     66926\n",
      "   macro avg       0.98      0.98      0.98     66926\n",
      "weighted avg       0.98      0.98      0.98     66926\n",
      "\n"
     ]
    }
   ],
   "source": [
    "train_pred_y = random_clf.predict(train_X)\n",
    "val_pred_y = random_clf.predict(val_X)\n",
    "\n",
    "train_performance_report = classification_report(train_y, train_pred_y)\n",
    "val_performance_report = classification_report(val_y, val_pred_y)\n",
    "\n",
    "print(f\"Training performance\\n{train_performance_report}\")\n",
    "print(f\"Validation performance\\n{val_performance_report}\")"
   ]
  },
  {
   "cell_type": "markdown",
   "metadata": {},
   "source": [
    "# Model benchmark"
   ]
  },
  {
   "cell_type": "code",
   "execution_count": 44,
   "metadata": {},
   "outputs": [
    {
     "name": "stdout",
     "output_type": "stream",
     "text": [
      "Model             ROC_AUC        F1\n",
      "-----------------------------------\n",
      "logistic_linear   0.94896   0.87617\n",
      "logistic_poly2    0.95499   0.88835\n",
      "decision_tree     0.91939   0.87276\n",
      "bagged_trees      0.99615   0.97055\n",
      "feature_bagged_trees   0.99034   0.95448\n",
      "random_forest     0.99806   0.98059\n"
     ]
    },
    {
     "data": {
      "image/png": "[encoded data removed]",
      "text/plain": [
       "<Figure size 1000x800 with 1 Axes>"
      ]
     },
     "metadata": {},
     "output_type": "display_data"
    }
   ],
   "source": [
    "fig, axis = plt.subplots(figsize=(10, 8))\n",
    "\n",
    "print(f\"{'Model':15}{'ROC_AUC':>10}{'F1':>10}\")\n",
    "print(\"-\" * 35)\n",
    "for name, clf in clfs.items():\n",
    "    if name == \"logistic_poly2\":\n",
    "        prob_y = clf.predict_proba(val_X_poly2)[:, 1]\n",
    "        pred_y = clf.predict(val_X_poly2)\n",
    "    else:\n",
    "        prob_y = clf.predict_proba(val_X)[:, 1]\n",
    "        pred_y = clf.predict(val_X)\n",
    "\n",
    "    fpr, tpr, thresholds = roc_curve(val_y, prob_y)\n",
    "    roc_auc = auc(fpr, tpr)\n",
    "    sns.lineplot(x=fpr, y=tpr, label=f\"{name} (f1={f1_score(val_y, pred_y):.2f}, ROC_AUC={roc_auc:.2f})\", ax=axis)\n",
    "    plt.fill_between(fpr, tpr, alpha=0.024)\n",
    "    print(f\"{name:15}{roc_auc:10.5f}{f1_score(val_y, pred_y):10.5f}\")\n",
    "\n",
    "\n",
    "plt.plot([0, 1], [0, 1], linestyle=\"--\", color=\"black\", alpha=0.1)\n",
    "axis.set_xlabel(\"False Positive Rate\")\n",
    "axis.set_ylabel(\"True Positive Rate\")\n",
    "axis.set_title(\"ROC Curve - Model Comparison\")\n",
    "axis.legend()\n",
    "\n",
    "plt.show()\n",
    "fig.savefig(\"../images/models_roc_auc_compare.png\")"
   ]
  },
  {
   "cell_type": "markdown",
   "metadata": {},
   "source": [
    "Based on the benchmark, we can see that most model performed well but bagged trees and random forest displayed highest f1 and ROC_AUC score. Also the tree models is not overfitted since they are performing well against validation dataset (f1: 0.98)\n",
    "\n",
    "For final model optimization, I will use random forest for its superiority in computing time comparing to bagged trees"
   ]
  }
 ],
 "metadata": {
  "kernelspec": {
   "display_name": "myenv",
   "language": "python",
   "name": "myenv"
  },
  "language_info": {
   "codemirror_mode": {
    "name": "ipython",
    "version": 3
   },
   "file_extension": ".py",
   "mimetype": "text/x-python",
   "name": "python",
   "nbconvert_exporter": "python",
   "pygments_lexer": "ipython3",
   "version": "3.12.0"
  }
 },
 "nbformat": 4,
 "nbformat_minor": 2
}
