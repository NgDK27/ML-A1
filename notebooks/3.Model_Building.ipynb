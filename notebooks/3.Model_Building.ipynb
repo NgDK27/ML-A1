{
 "cells": [
  {
   "cell_type": "code",
   "execution_count": null,
   "metadata": {},
   "outputs": [],
   "source": []
  },
  {
   "cell_type": "code",
   "execution_count": 1,
   "metadata": {},
   "outputs": [],
   "source": [
    "# Imports and environment setup\n",
    "import pandas as pd\n",
    "import numpy as np\n",
    "import matplotlib.pyplot as plt\n",
    "import seaborn as sns\n",
    "\n",
    "from sklearn.model_selection import train_test_split, KFold, RandomizedSearchCV\n",
    "from sklearn.preprocessing import PolynomialFeatures, StandardScaler\n",
    "from sklearn.linear_model import LogisticRegression\n",
    "from sklearn.tree import DecisionTreeClassifier\n",
    "from sklearn.ensemble import BaggingClassifier, RandomForestClassifier\n",
    "from sklearn.metrics import f1_score, roc_auc_score, roc_curve, auc"
   ]
  },
  {
   "cell_type": "code",
   "execution_count": 2,
   "metadata": {},
   "outputs": [],
   "source": [
    "df_train = pd.read_csv(\"../data/transformed_train.csv\")\n",
    "df_test = pd.read_csv(\"../data/transformed_test.csv\")"
   ]
  },
  {
   "cell_type": "code",
   "execution_count": 3,
   "metadata": {},
   "outputs": [
    {
     "name": "stdout",
     "output_type": "stream",
     "text": [
      "Status\n",
      "0    167313\n",
      "1    167313\n",
      "Name: count, dtype: int64\n"
     ]
    }
   ],
   "source": [
    "print(df_train[\"Status\" ].value_counts())"
   ]
  },
  {
   "cell_type": "code",
   "execution_count": 4,
   "metadata": {},
   "outputs": [
    {
     "name": "stdout",
     "output_type": "stream",
     "text": [
      "train_X shape: (267700, 22)\n",
      "train_y shape: (267700, 1)\n",
      "val_X shape: (66926, 22)\n",
      "val_y shape: (66926, 1)\n"
     ]
    }
   ],
   "source": [
    "# Separate our features (X) and target (y)\n",
    "df_X = df_train.drop([\"Status\"], axis=1)\n",
    "df_y = df_train[[\"Status\"]]\n",
    "\n",
    "# Splitting our training data into a train set and a validation set\n",
    "train_X, val_X, train_y, val_y = train_test_split(\n",
    "    df_X, df_y,\n",
    "    shuffle=True,\n",
    "    random_state=0,  # Ensure reproducible results\n",
    "    test_size=0.2    # 80% Train - 20% Validation\n",
    ")\n",
    "\n",
    "print(f\"train_X shape: {train_X.shape}\")\n",
    "print(f\"train_y shape: {train_y.shape}\")\n",
    "print(f\"val_X shape: {val_X.shape}\")\n",
    "print(f\"val_y shape: {val_y.shape}\")"
   ]
  },
  {
   "cell_type": "code",
   "execution_count": 5,
   "metadata": {},
   "outputs": [
    {
     "name": "stdout",
     "output_type": "stream",
     "text": [
      "HighBP                  0\n",
      "HighChol                0\n",
      "BMI                     0\n",
      "Smoker                  0\n",
      "Stroke                  0\n",
      "HeartDiseaseorAttack    0\n",
      "PhysActivity            0\n",
      "Fruits                  0\n",
      "Veggies                 0\n",
      "HvyAlcoholConsump       0\n",
      "AnyHealthcare           0\n",
      "NoDocbcCost             0\n",
      "GenHlth                 0\n",
      "MentHlth                0\n",
      "PhysHlth                0\n",
      "DiffWalk                0\n",
      "Sex                     0\n",
      "Age                     0\n",
      "Education               0\n",
      "Income                  0\n",
      "ExtraMedTest            0\n",
      "ExtraAlcoholTest        0\n",
      "dtype: int64\n",
      "Status    0\n",
      "dtype: int64\n"
     ]
    }
   ],
   "source": [
    "print(train_X.isna().sum())\n",
    "print(train_y.isna().sum())"
   ]
  },
  {
   "cell_type": "code",
   "execution_count": 6,
   "metadata": {},
   "outputs": [],
   "source": [
    "clfs = dict()"
   ]
  },
  {
   "cell_type": "code",
   "execution_count": 7,
   "metadata": {},
   "outputs": [],
   "source": [
    "cv = KFold(\n",
    "    n_splits=4,     # Each fold is 20% of df_X\n",
    "    shuffle=True,\n",
    "    random_state=0  # Reproducible result\n",
    ")"
   ]
  },
  {
   "cell_type": "code",
   "execution_count": 8,
   "metadata": {},
   "outputs": [],
   "source": [
    "clf = LogisticRegression(\n",
    "    solver=\"saga\",    \n",
    "    class_weight=\"balanced\",\n",
    "    max_iter=1000,\n",
    "    random_state=0            # Reproducible result\n",
    ")"
   ]
  },
  {
   "cell_type": "code",
   "execution_count": 9,
   "metadata": {},
   "outputs": [],
   "source": [
    "params = {\n",
    "    \"C\": 1 / np.logspace(-5, 2, num=100),\n",
    "    \"penalty\": [\"l1\", \"l2\"]\n",
    "}"
   ]
  },
  {
   "cell_type": "code",
   "execution_count": 10,
   "metadata": {},
   "outputs": [],
   "source": [
    "grid_clf = RandomizedSearchCV(clf, params, cv=cv, scoring=[\"f1\", \"roc_auc\"], refit=\"f1\", return_train_score=True)\n",
    "grid_clf.fit(train_X, train_y.values.ravel())\n",
    "\n",
    "train_pred_y = grid_clf.predict(train_X)\n",
    "val_pred_y = grid_clf.predict(val_X)\n",
    "clfs[\"logistic1\"] = grid_clf"
   ]
  },
  {
   "cell_type": "code",
   "execution_count": 11,
   "metadata": {},
   "outputs": [
    {
     "data": {
      "text/plain": [
       "{'penalty': 'l1', 'C': 0.11497569953977356}"
      ]
     },
     "execution_count": 11,
     "metadata": {},
     "output_type": "execute_result"
    }
   ],
   "source": [
    "grid_clf.best_params_"
   ]
  },
  {
   "cell_type": "code",
   "execution_count": 12,
   "metadata": {},
   "outputs": [],
   "source": [
    "# Degree 2 Polynomial Features:\n",
    "poly = PolynomialFeatures(2)\n",
    "train_X_poly2 = poly.fit_transform(train_X)\n",
    "val_X_poly2 = poly.transform(val_X)\n",
    "\n",
    "# We need to scale the data again after transforming it to polynomial features\n",
    "scaler = StandardScaler()\n",
    "train_X_poly2 = scaler.fit_transform(train_X_poly2)\n",
    "val_X_poly2 = scaler.transform(val_X_poly2)\n"
   ]
  },
  {
   "cell_type": "code",
   "execution_count": 13,
   "metadata": {},
   "outputs": [],
   "source": [
    "grid_clf = RandomizedSearchCV(clf, params, cv=cv, scoring=[\"f1\", \"roc_auc\"], refit=\"f1\", return_train_score=True)\n",
    "grid_clf.fit(train_X_poly2, train_y.values.ravel())\n",
    "\n",
    "train_pred_y = grid_clf.predict(train_X_poly2)\n",
    "val_pred_y = grid_clf.predict(val_X_poly2)\n",
    "clfs[\"logistic2\"] = grid_clf"
   ]
  },
  {
   "cell_type": "code",
   "execution_count": 14,
   "metadata": {},
   "outputs": [
    {
     "data": {
      "text/plain": [
       "{'penalty': 'l2', 'C': 1.3219411484660286}"
      ]
     },
     "execution_count": 14,
     "metadata": {},
     "output_type": "execute_result"
    }
   ],
   "source": [
    "grid_clf.best_params_"
   ]
  },
  {
   "cell_type": "code",
   "execution_count": 15,
   "metadata": {},
   "outputs": [],
   "source": [
    "# # Degree 3 Polynomial Features:\n",
    "# poly = PolynomialFeatures(3)\n",
    "# train_X_poly3 = poly.fit_transform(train_X)\n",
    "# val_X_poly3 = poly.transform(val_X)\n",
    "\n",
    "# # We need to scale the data again after transforming it to polynomial features\n",
    "# scaler = StandardScaler()\n",
    "# train_X_poly3 = scaler.fit_transform(train_X_poly3)\n",
    "# val_X_poly3 = scaler.transform(val_X_poly3)\n"
   ]
  },
  {
   "cell_type": "code",
   "execution_count": 16,
   "metadata": {},
   "outputs": [],
   "source": [
    "# grid_clf = RandomizedSearchCV(clf, params, cv=cv, scoring=[\"f1\", \"roc_auc\"], refit=\"f1\", return_train_score=True)\n",
    "# grid_clf.fit(train_X_poly3, train_y.values.ravel())\n",
    "\n",
    "# train_pred_y = grid_clf.predict(train_X_poly3)\n",
    "# val_pred_y = grid_clf.predict(val_X_poly3)\n",
    "# clfs[\"logistic3\"] = grid_clf"
   ]
  },
  {
   "cell_type": "code",
   "execution_count": 17,
   "metadata": {},
   "outputs": [],
   "source": [
    "# grid_clf.best_params_"
   ]
  },
  {
   "cell_type": "code",
   "execution_count": 18,
   "metadata": {},
   "outputs": [],
   "source": [
    "params = {\n",
    "    \"max_depth\": np.arange(2, 24, 2),\n",
    "    \"min_samples_split\": np.arange(2, 10, 2),\n",
    "}"
   ]
  },
  {
   "cell_type": "code",
   "execution_count": 19,
   "metadata": {},
   "outputs": [],
   "source": [
    "clf = DecisionTreeClassifier(\n",
    "    criterion=\"gini\",         # Good for balanced data (we have already up-sampled out data so it is now balanced)\n",
    "    class_weight=\"balanced\",\n",
    "    random_state=0            # Reproducible result\n",
    ")\n",
    "\n",
    "grid_clf = RandomizedSearchCV(clf, params, cv=cv, n_jobs=-1, scoring=[\"f1\", \"roc_auc\"], refit=\"f1\", return_train_score=True)\n",
    "grid_clf.fit(train_X, train_y.values.ravel())\n",
    "\n",
    "train_pred_y = grid_clf.predict(train_X)\n",
    "val_pred_y = grid_clf.predict(val_X)\n",
    "clfs[\"tree\"] = grid_clf"
   ]
  },
  {
   "cell_type": "code",
   "execution_count": 20,
   "metadata": {},
   "outputs": [
    {
     "data": {
      "text/plain": [
       "{'min_samples_split': 4, 'max_depth': 20}"
      ]
     },
     "execution_count": 20,
     "metadata": {},
     "output_type": "execute_result"
    }
   ],
   "source": [
    "grid_clf.best_params_"
   ]
  },
  {
   "cell_type": "code",
   "execution_count": 21,
   "metadata": {},
   "outputs": [],
   "source": [
    "params = {\n",
    "    \"n_estimators\": np.arange(5, 25, 5),\n",
    "    \"max_samples\": np.arange(0.1, 1.0, 0.1),\n",
    "}"
   ]
  },
  {
   "cell_type": "code",
   "execution_count": 22,
   "metadata": {},
   "outputs": [],
   "source": [
    "clf = BaggingClassifier(\n",
    "    estimator=clfs[\"tree\"],\n",
    "    random_state=0  # Reproducible result\n",
    ")\n",
    "\n",
    "grid_clf = RandomizedSearchCV(clf, params, cv=cv, scoring=[\"f1\", \"roc_auc\"], refit=\"f1\", return_train_score=True)\n",
    "grid_clf.fit(train_X, train_y.values.ravel())\n",
    "\n",
    "train_pred_y = grid_clf.predict(train_X)\n",
    "val_pred_y = grid_clf.predict(val_X)\n",
    "clfs[\"bagged_trees\"] = grid_clf"
   ]
  },
  {
   "cell_type": "code",
   "execution_count": 23,
   "metadata": {},
   "outputs": [
    {
     "data": {
      "text/plain": [
       "{'n_estimators': 15, 'max_samples': 0.9}"
      ]
     },
     "execution_count": 23,
     "metadata": {},
     "output_type": "execute_result"
    }
   ],
   "source": [
    "grid_clf.best_params_"
   ]
  },
  {
   "cell_type": "code",
   "execution_count": 24,
   "metadata": {},
   "outputs": [],
   "source": [
    "params = {\n",
    "    \"n_estimators\": np.arange(5, 25, 5),\n",
    "    \"max_samples\": np.arange(0.1, 1.0, 0.1),\n",
    "    \"max_features\": [0.5, 0.7, 0.9],  # Specify different fractions of features to consider for each base estimator\n",
    "}"
   ]
  },
  {
   "cell_type": "code",
   "execution_count": 25,
   "metadata": {},
   "outputs": [],
   "source": [
    "clf = BaggingClassifier(estimator=clfs[\"tree\"], random_state=0, bootstrap_features=True)\n",
    "\n",
    "# Perform grid search to tune hyperparameters\n",
    "grid_clf = RandomizedSearchCV(clf, params, cv=cv, scoring=[\"f1\", \"roc_auc\"], refit=\"f1\", return_train_score=True)\n",
    "grid_clf.fit(train_X, train_y.values.ravel())\n",
    "\n",
    "train_pred_y = grid_clf.predict(train_X)\n",
    "val_pred_y = grid_clf.predict(val_X)\n",
    "\n",
    "# Store the trained model in the clfs dictionary\n",
    "clfs[\"feature_bagged_trees\"] = grid_clf"
   ]
  },
  {
   "cell_type": "code",
   "execution_count": 26,
   "metadata": {},
   "outputs": [
    {
     "data": {
      "text/plain": [
       "{'n_estimators': 20, 'max_samples': 0.7000000000000001, 'max_features': 0.7}"
      ]
     },
     "execution_count": 26,
     "metadata": {},
     "output_type": "execute_result"
    }
   ],
   "source": [
    "grid_clf.best_params_"
   ]
  },
  {
   "cell_type": "code",
   "execution_count": 27,
   "metadata": {},
   "outputs": [],
   "source": [
    "params = {\n",
    "    \"n_estimators\": np.arange(5, 25, 5),\n",
    "    \"max_depth\": np.arange(2, 24, 2),\n",
    "}"
   ]
  },
  {
   "cell_type": "code",
   "execution_count": 28,
   "metadata": {},
   "outputs": [],
   "source": [
    "clf = RandomForestClassifier(\n",
    "    criterion=\"gini\",  # Good for balanced data (we have already up-sampled out data so it is now balanced)\n",
    "    class_weight=\"balanced\",\n",
    "    random_state=0     # Reproducible result\n",
    ")\n",
    "\n",
    "grid_clf = RandomizedSearchCV(clf, params, cv=cv, scoring=[\"f1\", \"roc_auc\"], refit=\"f1\", return_train_score=True)\n",
    "grid_clf.fit(train_X, train_y.values.ravel())\n",
    "\n",
    "train_pred_y = grid_clf.predict(train_X)\n",
    "val_pred_y = grid_clf.predict(val_X)\n",
    "clfs[\"forest\"] = grid_clf"
   ]
  },
  {
   "cell_type": "code",
   "execution_count": 29,
   "metadata": {},
   "outputs": [
    {
     "name": "stdout",
     "output_type": "stream",
     "text": [
      "        Status\n",
      "202950     NaN\n",
      "82767      NaN\n",
      "45140      NaN\n",
      "192660     NaN\n",
      "238670     NaN\n",
      "...        ...\n",
      "122579     NaN\n",
      "304137     NaN\n",
      "152315     NaN\n",
      "117952     NaN\n",
      "305711     NaN\n",
      "\n",
      "[267700 rows x 1 columns]\n"
     ]
    }
   ],
   "source": [
    "invalid_values = train_y[np.logical_and(train_y != 0, train_y != 1)]\n",
    "print(invalid_values)"
   ]
  },
  {
   "cell_type": "code",
   "execution_count": 30,
   "metadata": {},
   "outputs": [
    {
     "data": {
      "text/plain": [
       "{'n_estimators': 15, 'max_depth': 20}"
      ]
     },
     "execution_count": 30,
     "metadata": {},
     "output_type": "execute_result"
    }
   ],
   "source": [
    "grid_clf.best_params_"
   ]
  },
  {
   "cell_type": "code",
   "execution_count": 31,
   "metadata": {},
   "outputs": [
    {
     "name": "stdout",
     "output_type": "stream",
     "text": [
      "Model                 AUC        F1\n",
      "-----------------------------------\n"
     ]
    },
    {
     "name": "stdout",
     "output_type": "stream",
     "text": [
      "logistic1         0.93688   0.85964\n",
      "logistic2         0.94236   0.86899\n",
      "tree              0.98058   0.95779\n",
      "bagged_trees      0.99761   0.97584\n",
      "feature_bagged_trees   0.99688   0.97280\n",
      "forest            0.99810   0.97985\n"
     ]
    },
    {
     "data": {
      "image/png": "[encoded data removed]",
      "text/plain": [
       "<Figure size 1000x800 with 1 Axes>"
      ]
     },
     "metadata": {},
     "output_type": "display_data"
    }
   ],
   "source": [
    "fig, axis = plt.subplots(figsize=(10, 8))\n",
    "\n",
    "print(f\"{'Model':15}{'AUC':>10}{'F1':>10}\")\n",
    "print(\"-\" * 35)\n",
    "for name, clf in clfs.items():\n",
    "    if name == \"logistic2\":\n",
    "        prob_y = clf.predict_proba(val_X_poly2)[:, 1]\n",
    "        pred_y = clf.predict(val_X_poly2)\n",
    "    # elif name == \"logistic3\":\n",
    "    #     prob_y = clf.predict_proba(val_X_poly3)[:, 1]\n",
    "    #     pred_y = clf.predict(val_X_poly3)\n",
    "    else:\n",
    "        prob_y = clf.predict_proba(val_X)[:, 1]\n",
    "        pred_y = clf.predict(val_X)\n",
    "\n",
    "    fpr, tpr, thresholds = roc_curve(val_y, prob_y)\n",
    "    roc_auc = auc(fpr, tpr)\n",
    "    sns.lineplot(x=fpr, y=tpr, label=f\"{name} (AUC={roc_auc:.2f}, F1={f1_score(val_y, pred_y):.2f})\", ax=axis)\n",
    "    plt.fill_between(fpr, tpr, alpha=0.024)\n",
    "    print(f\"{name:15}{roc_auc:10.5f}{f1_score(val_y, pred_y):10.5f}\")\n",
    "\n",
    "\n",
    "plt.plot([0, 1], [0, 1], linestyle=\"--\", color=\"black\", alpha=0.1)\n",
    "axis.set_xlabel(\"False Positive Rate\")\n",
    "axis.set_ylabel(\"True Positive Rate\")\n",
    "axis.set_title(\"ROC Curve - Model Comparison\")\n",
    "axis.legend()\n",
    "\n",
    "plt.show()\n",
    "fig.savefig(\"../images/ModelDev_ROC_AUC_Compare.png\", dpi=300)"
   ]
  }
 ],
 "metadata": {
  "kernelspec": {
   "display_name": "myenv",
   "language": "python",
   "name": "myenv"
  },
  "language_info": {
   "codemirror_mode": {
    "name": "ipython",
    "version": 3
   },
   "file_extension": ".py",
   "mimetype": "text/x-python",
   "name": "python",
   "nbconvert_exporter": "python",
   "pygments_lexer": "ipython3",
   "version": "3.12.0"
  }
 },
 "nbformat": 4,
 "nbformat_minor": 2
}
